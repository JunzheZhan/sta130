{
 "cells": [
  {
   "cell_type": "markdown",
   "id": "0d0525a3",
   "metadata": {},
   "source": [
    "### 1. The \"first pre-lecture video\" (above) describes hypothesis testing as addressing \"an idea that can be tested\", and the end of the video then discusses what our actual intended purpose in setting up a null hypothesis is. What is the key factor that makes the difference between ideas that can, and cannot be examined and tested statistically?  What would you describe is the key \"criteria\" defining what a good null hypothesis is? And what is the difference between a null hypothesis and an alternative hypothesis in the context of hypothesis testing? Answer these questions with concise explanations in your own words.<br>"
   ]
  },
  {
   "cell_type": "markdown",
   "id": "e7a61765",
   "metadata": {},
   "source": [
    "Key factor for testable ideas: The key factor that makes an idea testable statistically is whether it can be quantified and measured. This means the idea must be expressed in a way that allows for data collection and comparison against a defined expectation.\n",
    "\n",
    "Criteria for a good null hypothesis: A good null hypothesis should be clear, specific, and falsifiable. It should be testable with available data.\n",
    "\n",
    "Difference between null and alternative hypotheses: The null hypothesis asserts that there is no effect or no difference, serving as the default assumption. The alternative hypothesis suggests that there is an effect, difference, or relationship, and it is what the researcher seeks evidence for."
   ]
  },
  {
   "cell_type": "markdown",
   "id": "1a686d01",
   "metadata": {},
   "source": [
    "### 2. Towards the end of the \"first pre-lecture\" video (above) it is stated that, \"It is important to note that outcomes of tests refer to the population parameter, rather than the sample statistic! As such, the result that we get is for the population.\" In terms of the distinctions between the concepts of $x_i\\!$'s, $\\bar x$, $\\mu$, and $\\mu_0$, how would you describe what the sentence above means? Explain this concisely in your own words.<br>"
   ]
  },
  {
   "cell_type": "markdown",
   "id": "e27fc3ba",
   "metadata": {},
   "source": [
    "The statement emphasizes that hypothesis testing is about making inferences regarding the population parameter rather than the sample statistic.\n",
    "\n",
    "𝑥ᵢ: Individual data points in the sample.\n",
    "\n",
    "𝑥̄: The sample mean, which summarizes the sample data.\n",
    "\n",
    "𝜇: The population mean, the true value we are trying to estimate or test.\n",
    "\n",
    "𝜇₀: The hypothesized population mean under the null hypothesis.\n",
    "    \n",
    "When we perform a hypothesis test, the result is not about the sample mean (𝑥̄) but about whether the population mean (𝜇) differs from the hypothesized value (𝜇₀). The sample statistic (𝑥̄) is used to estimate and draw conclusions about the population mean (𝜇)."
   ]
  },
  {
   "cell_type": "markdown",
   "id": "6065c17a",
   "metadata": {},
   "source": [
    "### 3. The second \"Pre-lecture\" video (above) explains that we \"imagine a world where the null hypothesis is true\" when calculating a p-value? Explain why this is in your own words in a way that makes the most sense to you.<br>"
   ]
  },
  {
   "cell_type": "markdown",
   "id": "6a8add77",
   "metadata": {},
   "source": [
    "When calculating a p-value, we imagine a world where the null hypothesis is true because the p-value measures how likely it is to observe our sample data if the null hypothesis were correct.\n",
    "\n",
    "To do this, we use the sampling distribution of the test statistic under the assumption that the null hypothesis is true. This distribution tells us what values of the test statistic are typical if there’s no effect or difference. The p-value is then the probability of obtaining a test statistic as extreme as what we observed, given this assumption. This helps us decide whether the observed data is unusual enough to reject the null hypothesis."
   ]
  },
  {
   "cell_type": "markdown",
   "id": "4d6c6fe4",
   "metadata": {},
   "source": [
    "### 4. The second \"Pre-lecture\" video (above) describes suggest that a smaller p-value makes the null hypothesis look more ridiculous. Explain why this is in your own words in a way that makes the most sense to you.<br>"
   ]
  },
  {
   "cell_type": "markdown",
   "id": "1e514a18",
   "metadata": {},
   "source": [
    "Because it means the observed test statistic is far from what we would expect if the null hypothesis were true.\n",
    "\n",
    "The p-value is the probability of observing a test statistic as extreme as ours, or more extreme, under the sampling distribution assuming the null hypothesis is correct. When the p-value is small, it indicates that the observed data is very unlikely to occur under the null hypothesis, suggesting that the null hypothesis does not align well with the actual data. The smaller the p-value, the stronger the evidence against the null hypothesis, making it seem more implausible."
   ]
  },
  {
   "cell_type": "markdown",
   "id": "5d7abc1c",
   "metadata": {},
   "source": [
    "### 5. Güntürkün (2003) recorded how kissing couples tilt their heads. 80 out of 124 couples, or 64.5% tilted their heads to the right. Simulate a **p-value** using a \"50/50 coin-flipping\" model for the assumption of the **null hypothesis** $H_0$ that the population of humans don't have left or right head tilt tendencies when kissing, and use the table below to determine the level of evidence we have against $H_0$. <br>"
   ]
  },
  {
   "cell_type": "code",
   "execution_count": 1,
   "id": "f62bcb6a",
   "metadata": {},
   "outputs": [
    {
     "data": {
      "text/plain": [
       "0.0005"
      ]
     },
     "execution_count": 1,
     "metadata": {},
     "output_type": "execute_result"
    }
   ],
   "source": [
    "import numpy as np\n",
    "\n",
    "# Parameters\n",
    "n_couples = 124  # number of trials (couples)\n",
    "observed_right_tilts = 80  # observed number of right tilts\n",
    "prob_right_tilt = 0.5  # probability of tilting right under H0\n",
    "n_simulations = 10000  # number of simulations\n",
    "\n",
    "# Simulate head tilts under H0\n",
    "simulated_right_tilts = np.random.binomial(n_couples, prob_right_tilt, n_simulations)\n",
    "\n",
    "# Calculate p-value: proportion of simulations with right tilts >= observed_right_tilts\n",
    "p_value = np.mean(simulated_right_tilts >= observed_right_tilts)\n",
    "\n",
    "p_value"
   ]
  },
  {
   "cell_type": "markdown",
   "id": "3990e1ca",
   "metadata": {},
   "source": [
    "0.001≥𝑝\n",
    " \n",
    "Very strong evidence against the null hypothesis."
   ]
  },
  {
   "cell_type": "markdown",
   "id": "4a0703ab",
   "metadata": {},
   "source": [
    "#### Summary of Chatbot:"
   ]
  },
  {
   "cell_type": "markdown",
   "id": "68c011f6",
   "metadata": {},
   "source": [
    "In this session, we simulated a p-value to test the null hypothesis \n",
    "𝐻\n",
    "0\n",
    "H \n",
    "0\n",
    "​\n",
    "  that couples have no preference for tilting their heads to the left or right when kissing, using data from Güntürkün (2003), where 80 out of 124 couples tilted their heads to the right (64.5%). The null hypothesis assumes a 50/50 chance for head tilting.\n",
    "\n",
    "We ran 10,000 simulations using a binomial model to randomly assign head tilts under the assumption of a 50% chance for each direction. The p-value was calculated as the proportion of simulations where 80 or more couples tilted their heads to the right.\n",
    "\n",
    "The resulting p-value was 0.0004, which indicates very strong evidence against the null hypothesis, suggesting that the observed rightward head tilt is unlikely to be due to chance."
   ]
  },
  {
   "cell_type": "markdown",
   "id": "410f18e6",
   "metadata": {},
   "source": [
    "#### Link: https://chatgpt.com/share/6706d4e6-735c-800b-9afb-74aca5ef3ba0"
   ]
  },
  {
   "cell_type": "markdown",
   "id": "042918f9",
   "metadata": {},
   "source": [
    "### 6. Can a smaller p-value definitively prove that the null hypothesis is false? Is it possible to definitively prove that Fido (from the \"second pre-lecture video\") is innocent using a p-value? Is it possible to difinitively prove that Fido is guilty using a p-value? How low or high does a p-value have to be to definitely prove one or the other? Explain this concisely in your own words.<br>"
   ]
  },
  {
   "cell_type": "markdown",
   "id": "04402f2d",
   "metadata": {},
   "source": [
    "A smaller p-value does not definitively prove that the null hypothesis is false. The p-value represents the probability of observing the data, or something more extreme, assuming the null hypothesis is true. A low p-value suggests that the observed data is unlikely under the null hypothesis, but it doesn't \"prove\" anything definitively—it only indicates strong evidence against the null hypothesis.\n",
    "\n",
    "In the case of Fido, a p-value cannot definitively prove innocence or guilt. A high p-value would suggest insufficient evidence to reject the null hypothesis, but it doesn't \"prove\" innocence. Similarly, a low p-value indicates evidence against the null hypothesis, but it does not definitively prove guilt.\n",
    "\n",
    "P-values do not provide definitive proof because they are based on probabilistic reasoning, not absolute certainty."
   ]
  },
  {
   "cell_type": "markdown",
   "id": "a942439d",
   "metadata": {},
   "source": [
    "### 7. In the second half of the \"first pre-lecture video\" the concept of a \"one sided\" (or \"one tailed\") test is introduced in contrast to a \"two sided\" (or \"two tailed\") test. Work with a ChatBot to adjust the code from \"Demo II of  the Week 5 TUT\" (which revisits the \"Vaccine Data Analysis Assignment\" from Week 04 HW \"Question 8\") in order to compute a p-value for a \"one sided\" (or \"one tailed\") hypothesis test rather than the \"two sided\" (or \"two tailed\") version it provides. Describe (perhaps with the help of your ChatBot) what changed in the code; how this changes the interpretation of the hypothesis test; and whether or not we should indeed expect the p-value to be smaller in the \"one tailed\" versus \"two tailed\" analysis. <br>"
   ]
  },
  {
   "cell_type": "markdown",
   "id": "7d83bd4e",
   "metadata": {},
   "source": [
    "Test Statistic Calculation: This remains the same since you're still comparing observed data against the null hypothesis.\n",
    "    \n",
    "P-value Calculation:\n",
    "\n",
    "In the two-tailed test, the p-value is based on the probability of observing a test statistic as extreme as, or more extreme than, the one observed, in either direction (both lower and upper tails).\n",
    "In a one-tailed test, the p-value is calculated for only one direction—either testing whether the data is significantly greater than or less than the null hypothesis.\n",
    "\n",
    "Interpretation Changes:\n",
    "\n",
    "Two-sided Test: You're testing whether the parameter could be either significantly higher or lower than the null hypothesis value.\n",
    "\n",
    "One-sided Test: You're testing whether the parameter is significantly higher (or lower) than the null hypothesis value, depending on the direction of the alternative hypothesis.\n",
    "    \n",
    "Expectation for P-value:\n",
    "Yes, the p-value is generally expected to be smaller in a one-tailed test than in a two-tailed test, as the total probability is focused on just one tail of the distribution. This can make it easier to reject the null hypothesis, provided that the observed effect is in the predicted direction."
   ]
  },
  {
   "cell_type": "markdown",
   "id": "9a4541c2",
   "metadata": {},
   "source": [
    "### 8. Complete the following assignment. "
   ]
  },
  {
   "cell_type": "markdown",
   "id": "2736ef43",
   "metadata": {},
   "source": [
    "#### Problem Introduction:\n",
    "\n",
    "The purpose of this experiment is to investigate whether students in STA130 can distinguish between two methods of making tea: adding milk before or after the tea. This study draws inspiration from the famous experiment conducted by Ronald Fisher and Muriel Bristol, who tested the same hypothesis in the 1920s. We aim to determine if the observed performance of students deviates from what would be expected by random guessing.\n",
    "\n",
    "Fisher's original experiment involved 8 cups of tea, where Bristol was able to identify the pouring method correctly for all cups. In contrast, our experiment involves a larger sample size of 80 STA130 students, each tasting one cup of tea and guessing the pouring method. This change in sample size and context may affect the results and interpretations of the experiment.\n",
    "\n",
    "Null Hypothesis (H₀): The proportion of students correctly identifying the pouring method is equal to 0.5, indicating that any correct identifications are due to random guessing.\n",
    "Alternative Hypothesis (H₁): The proportion of students correctly identifying the pouring method is greater than 0.5, indicating that they can actually distinguish between the two methods.\n",
    "    \n",
    "#### Quantitative Analysis:\n",
    "    \n",
    "Population and Sample:\n",
    "\n",
    "Population: All STA130 students.\n",
    "Sample: 80 randomly selected STA130 students.\n",
    "Parameter of interest: The true proportion of students who can correctly identify the pouring method (p).\n",
    "\n",
    "Methodology:\n",
    "\n",
    "Conduct a hypothesis test using the binomial distribution to simulate the null hypothesis scenario.\n",
    "Calculate the p-value based on the observed test statistic."
   ]
  },
  {
   "cell_type": "code",
   "execution_count": 2,
   "id": "9cf031ac",
   "metadata": {},
   "outputs": [
    {
     "name": "stdout",
     "output_type": "stream",
     "text": [
      "Observed Proportion: 0.61\n",
      "Z-Score: 2.01\n",
      "P-Value: 0.0221\n"
     ]
    }
   ],
   "source": [
    "import numpy as np\n",
    "import scipy.stats as stats\n",
    "\n",
    "# Set seed for reproducibility\n",
    "np.random.seed(42)\n",
    "\n",
    "# Parameters\n",
    "n_students = 80\n",
    "n_correct = 49\n",
    "p_null = 0.5\n",
    "\n",
    "# Observed proportion\n",
    "p_hat = n_correct / n_students\n",
    "\n",
    "# Perform a one-sample proportion test\n",
    "z_score = (p_hat - p_null) / np.sqrt(p_null * (1 - p_null) / n_students)\n",
    "p_value = 1 - stats.norm.cdf(z_score)\n",
    "\n",
    "# Display results\n",
    "print(f\"Observed Proportion: {p_hat:.2f}\")\n",
    "print(f\"Z-Score: {z_score:.2f}\")\n",
    "print(f\"P-Value: {p_value:.4f}\")"
   ]
  },
  {
   "cell_type": "markdown",
   "id": "9bdb9c48",
   "metadata": {},
   "source": [
    "#### Findings and Discussion:"
   ]
  },
  {
   "cell_type": "markdown",
   "id": "08004477",
   "metadata": {},
   "source": [
    "P-Value Interpretation: Based on the computed p-value, we will assess whether to reject or fail to reject the null hypothesis. This is a small p-value which would indicate significant evidence against the null hypothesis, suggesting that students can indeed distinguish between the two pouring methods.\n",
    "    \n",
    "Based on the p-value of 0.02, we can reject the null hypothesis (H₀) at the conventional significance level of 0.05. This result suggests that there is statistically significant evidence to support the alternative hypothesis (H₁), which posits that the proportion of students correctly identifying the pouring method is greater than 0.5.\n",
    "\n",
    "In practical terms, this indicates that the STA130 students, as a group, have a discernible ability to distinguish between the two methods of making tea—pouring the milk before or after the tea. This finding aligns with the earlier experiment by Fisher and Bristol, suggesting that there may indeed be a perceptible difference in taste based on the order of pouring, which the students could identify beyond random guessing."
   ]
  },
  {
   "cell_type": "markdown",
   "id": "4045e301",
   "metadata": {},
   "source": [
    "### Summary of Chatbot:"
   ]
  },
  {
   "cell_type": "markdown",
   "id": "c6ca2090",
   "metadata": {},
   "source": [
    "Summary of Statistical Analysis on Tea-Tasting Experiment\n",
    "Problem Introduction:\n",
    "\n",
    "The experiment aimed to determine if STA130 students could distinguish between two tea-making methods: pouring milk before or after the tea. This study is inspired by the historical experiment conducted by Ronald Fisher and Muriel Bristol in the 1920s.\n",
    "Relationship to Original Experiment:\n",
    "\n",
    "Unlike Fisher and Bristol's original study, which involved 8 cups of tea, this experiment included a sample of 80 students. The differences in sample size and population context were acknowledged.\n",
    "Hypotheses:\n",
    "\n",
    "Null Hypothesis (H₀): The proportion of students correctly identifying the pouring method is 0.5, implying any correct identifications are due to random guessing.\n",
    "Alternative Hypothesis (H₁): The proportion of students correctly identifying the pouring method is greater than 0.5, indicating they can actually distinguish between the two methods.\n",
    "Quantitative Analysis:\n",
    "\n",
    "The experiment involved 80 students, with 49 correctly identifying the pouring method, leading to an observed proportion of \n",
    "𝑝\n",
    "^\n",
    "=\n",
    "49\n",
    "80\n",
    "=\n",
    "0.6125\n",
    "p\n",
    "^\n",
    "​\n",
    " = \n",
    "80\n",
    "49\n",
    "​\n",
    " =0.6125.\n",
    "A one-sample proportion test was conducted to assess the validity of H₀.\n",
    "Methodology and Code:\n",
    "\n",
    "A Python code snippet was provided to calculate the z-score and p-value, resulting in a p-value of 0.02.\n",
    "Findings and Discussion:\n",
    "\n",
    "Given the p-value of 0.02, the null hypothesis was rejected at the 0.05 significance level. This suggests significant evidence that students can distinguish between the two pouring methods.\n",
    "Conclusion regarding the Null Hypothesis:\n",
    "\n",
    "The results indicate that STA130 students possess a discernible ability to identify the order of pouring milk and tea, challenging the notion of random guessing. Further investigation into potential biases and factors influencing student responses was suggested."
   ]
  },
  {
   "cell_type": "markdown",
   "id": "24b301c5",
   "metadata": {},
   "source": [
    "### Link: https://chatgpt.com/share/6706db02-6348-800b-b870-89b1b22b7d74"
   ]
  },
  {
   "cell_type": "markdown",
   "id": "4c8769c3",
   "metadata": {},
   "source": [
    "### 9. Have you reviewed the course wiki-textbook and interacted with a ChatBot (or, if that wasn't sufficient, real people in the course piazza discussion board or TA office hours) to help you understand all the material in the tutorial and lecture that you didn't quite follow when you first saw it?<br>"
   ]
  },
  {
   "cell_type": "markdown",
   "id": "d0271795",
   "metadata": {},
   "source": [
    "Yes."
   ]
  },
  {
   "cell_type": "code",
   "execution_count": null,
   "id": "fd7b7a87",
   "metadata": {},
   "outputs": [],
   "source": []
  }
 ],
 "metadata": {
  "kernelspec": {
   "display_name": "Python 3 (ipykernel)",
   "language": "python",
   "name": "python3"
  },
  "language_info": {
   "codemirror_mode": {
    "name": "ipython",
    "version": 3
   },
   "file_extension": ".py",
   "mimetype": "text/x-python",
   "name": "python",
   "nbconvert_exporter": "python",
   "pygments_lexer": "ipython3",
   "version": "3.11.6"
  }
 },
 "nbformat": 4,
 "nbformat_minor": 5
}
