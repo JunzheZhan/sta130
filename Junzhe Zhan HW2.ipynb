{
 "cells": [
  {
   "cell_type": "markdown",
   "id": "49fb5d66",
   "metadata": {},
   "source": [
    "#### 1. Begin (or restart) part \"3(a)\" of the **TUT Demo** and interact with a ChatBot to make sure you understand how each part the Monte Hall problem code above works<br>"
   ]
  },
  {
   "cell_type": "markdown",
   "id": "03ce9be7",
   "metadata": {},
   "source": [
    "For each iteration, a secret winning door is randomly chosen.\n",
    "You initially pick a door (my_door_choice).\n",
    "The simulation removes the winning door and your chosen door from the list to reveal one of the \"goat\" doors.\n",
    "After the goat door is revealed, you are left with one door that you switch to.\n",
    "The simulation checks if your new door choice is the winning door and counts how many times you win by switching.\n",
    "After reps iterations, it calculates the fraction of wins."
   ]
  },
  {
   "cell_type": "markdown",
   "id": "08028c77",
   "metadata": {},
   "source": [
    "#### 2. Extend your ChatBot sessions to now address part \"3(b)\" of the **TUT Demo** and interact with your ChatBot to see if it can suggest a simpler, more streamlined way to code up this *for* loop simulation so the process is more clear and easier to understand; then, describe any preferences you have in terms of readibility or explainability  between the original code and the code improvements suggested by the ChatBot<br>"
   ]
  },
  {
   "cell_type": "code",
   "execution_count": null,
   "id": "6056bda8",
   "metadata": {},
   "outputs": [],
   "source": [
    "import numpy as np\n",
    "\n",
    "# Define parameters\n",
    "all_door_options = (1, 2, 3)  # The three available doors\n",
    "my_initial_choice = 1         # Initially choose door 1\n",
    "i_won = 0                     # Counter for wins when swapping\n",
    "reps = 100000                 # Number of repetitions for the simulation\n",
    "\n",
    "for _ in range(reps):\n",
    "    # Randomly pick the winning door\n",
    "    secret_winning_door = np.random.choice(all_door_options)\n",
    "\n",
    "    # Host reveals a losing door that isn't the chosen or winning door\n",
    "    remaining_doors = [door for door in all_door_options if door != my_initial_choice and door != secret_winning_door]\n",
    "    goat_door_reveal = np.random.choice(remaining_doors)\n",
    "\n",
    "    # Player swaps to the remaining door that was neither revealed nor chosen initially\n",
    "    remaining_doors_after_reveal = [door for door in all_door_options if door != my_initial_choice and door != goat_door_reveal]\n",
    "    my_new_choice = remaining_doors_after_reveal[0]\n",
    "\n",
    "    # Check if the new choice is the winning door\n",
    "    if my_new_choice == secret_winning_door:\n",
    "        i_won += 1\n",
    "\n",
    "# Calculate the probability of winning by swapping\n",
    "probability_of_winning = i_won / reps\n",
    "probability_of_winning"
   ]
  },
  {
   "cell_type": "markdown",
   "id": "594e9f35",
   "metadata": {},
   "source": [
    "The code is more concise and efficient, without the complexity of the previous version."
   ]
  },
  {
   "cell_type": "markdown",
   "id": "e3fc38d2",
   "metadata": {},
   "source": [
    "#### 3. Submit your preferred version of the Monty Hall problem that is verified to be running and working with a final printed output of the code; then, add code comments explaining the purpose of each line of the code<br>"
   ]
  },
  {
   "cell_type": "code",
   "execution_count": 1,
   "id": "344e1b5c",
   "metadata": {},
   "outputs": [
    {
     "data": {
      "text/plain": [
       "0.66495"
      ]
     },
     "execution_count": 1,
     "metadata": {},
     "output_type": "execute_result"
    }
   ],
   "source": [
    "import numpy as np\n",
    "\n",
    "# Define parameters\n",
    "all_door_options = (1, 2, 3)  # List the three available doors\n",
    "my_initial_choice = 1         # my first choose door 1\n",
    "i_won = 0                     # Counter for wins when swapping, shows how many times i won when swapping.\n",
    "reps = 100000                 # Number of repetitions for the simulation, the process repeats how many times.\n",
    "\n",
    "for _ in range(reps):\n",
    "    # Randomly pick the winning door\n",
    "    secret_winning_door = np.random.choice(all_door_options)\n",
    "\n",
    "    # Host reveals a goat door that isn't the chosen or winning door.\n",
    "    remaining_doors = [door for door in all_door_options if door != my_initial_choice and door != secret_winning_door]\n",
    "    goat_door_reveal = np.random.choice(remaining_doors)\n",
    "\n",
    "    # Player swaps to the remaining door that was neither revealed nor chosen initially\n",
    "    remaining_doors_after_reveal = [door for door in all_door_options if door != my_initial_choice and door != goat_door_reveal]\n",
    "    my_new_choice = remaining_doors_after_reveal[0]\n",
    "\n",
    "    # Check if the new choice is the winning door\n",
    "    if my_new_choice == secret_winning_door:\n",
    "        i_won += 1\n",
    "\n",
    "# Calculate the probability of winning by swapping in the range of reps.\n",
    "probability_of_winning = i_won / reps\n",
    "probability_of_winning"
   ]
  },
  {
   "cell_type": "markdown",
   "id": "a046c747",
   "metadata": {},
   "source": [
    "##### Summaries of Chatbot"
   ]
  },
  {
   "cell_type": "markdown",
   "id": "1af614f0",
   "metadata": {},
   "source": [
    "Initial Code Simulation:\n",
    "\n",
    "You provided Python code that simulates the Monty Hall problem, focusing on the strategy of switching doors after a losing door (goat door) is revealed.\n",
    "The code ran a loop over 100,000 repetitions to calculate the probability of winning by switching.\n",
    "I confirmed that your code was correct and explained how it worked. The result should show a probability of around 2/3 for winning by switching, consistent with the Monty Hall problem.\n",
    "Request for a Streamlined Version:\n",
    "\n",
    "You asked for a more streamlined version of the simulation to make it easier to understand and explain.\n",
    "I provided a refactored version that simplifies the logic using list comprehensions to filter out the doors. This version removed the need for the try-except block and made the steps more explicit (selecting the remaining doors after revealing a goat door, swapping the choice, and counting wins).\n",
    "I explained the changes made for simplicity while maintaining the core functionality of the original code.\n"
   ]
  },
  {
   "cell_type": "code",
   "execution_count": null,
   "id": "3ce88009",
   "metadata": {},
   "outputs": [],
   "source": [
    "import numpy as np\n",
    "\n",
    "# Define parameters\n",
    "all_door_options = (1, 2, 3)  # The three available doors\n",
    "my_initial_choice = 1         # Initially choose door 1\n",
    "i_won = 0                     # Counter for wins when swapping\n",
    "reps = 100000                 # Number of repetitions for the simulation\n",
    "\n",
    "for _ in range(reps):\n",
    "    # Randomly pick the winning door\n",
    "    secret_winning_door = np.random.choice(all_door_options)\n",
    "\n",
    "    # Host reveals a losing door that isn't the chosen or winning door\n",
    "    remaining_doors = [door for door in all_door_options if door != my_initial_choice and door != secret_winning_door]\n",
    "    goat_door_reveal = np.random.choice(remaining_doors)\n",
    "\n",
    "    # Player swaps to the remaining door that was neither revealed nor chosen initially\n",
    "    remaining_doors_after_reveal = [door for door in all_door_options if door != my_initial_choice and door != goat_door_reveal]\n",
    "    my_new_choice = remaining_doors_after_reveal[0]\n",
    "\n",
    "    # Check if the new choice is the winning door\n",
    "    if my_new_choice == secret_winning_door:\n",
    "        i_won += 1\n",
    "\n",
    "# Calculate the probability of winning by swapping\n",
    "probability_of_winning = i_won / reps\n",
    "probability_of_winning"
   ]
  },
  {
   "cell_type": "markdown",
   "id": "31ebd00e",
   "metadata": {},
   "source": [
    "#### Link: https://chatgpt.com/share/66ea1ee2-26b4-800b-9f47-287959d417a1"
   ]
  },
  {
   "cell_type": "markdown",
   "id": "be812b11",
   "metadata": {},
   "source": [
    "#### 4. Watch the embedded video tutorial on Markov chains in the next Jupyter cell below to understand their application and relevance for ChatBots; then, after watching the video, start a new ChatBot session by prompting that you have code that creates a \"Markovian ChatBot\"; show it the first version of the \"Markovian ChatBot code\" below; and interact with the ChatBot session to make sure you understand how the original first version of the \"Markovian ChatBot code\" works<br>"
   ]
  },
  {
   "cell_type": "markdown",
   "id": "9207edf7",
   "metadata": {},
   "source": [
    "#### Summaries of Chatbot"
   ]
  },
  {
   "cell_type": "markdown",
   "id": "b3da57f3",
   "metadata": {},
   "source": [
    "Initial Inquiry: You began by mentioning that you had code for creating a Markovian ChatBot. I explained that a Markovian chatbot typically uses a Markov chain to generate responses by modeling the probabilistic relationships between words based on the input text.\n",
    "\n",
    "Code Provided: You shared a code snippet that builds a Markov chain by analyzing a list of words. I explained how the code works:\n",
    "\n",
    "word_used counts the occurrences of each word.\n",
    "next_word stores the frequencies of words that follow each word.\n",
    "I provided an improvement suggestion: using Python’s defaultdict from the collections module to simplify the logic and reduce the need for conditional checks when initializing dictionary keys.\n",
    "\n",
    "Training the Model: You mentioned that you plan to train the Markovian chatbot using a series of stories with a variety of characters. I confirmed this as an excellent approach and described the next steps for training your model on multiple stories:\n",
    "\n",
    "Preparing the training data by collecting stories and tokenizing the text.\n",
    "Building the Markov chain.\n",
    "Generating responses using probabilistic transitions between words.\n",
    "Code for Training: I shared an example of how to build and train the Markov chain model using a list of stories, and how to generate sentences based on the learned word transitions. The example included:\n",
    "\n",
    "Preprocessing the stories to tokenize the text.\n",
    "Building the word occurrence and transition dictionaries.\n",
    "A function to generate sentences by starting with a random word and selecting the next word based on the transition probabilities.\n",
    "Suggestions for Improvement: I suggested enhancing the model with n-grams (bigrams or trigrams) and adding mechanisms to avoid loops or repeated sequences in generated responses. I also mentioned you can tweak the model to start generating sentences based on a user-provided word for more interactive chatbot behavior.\n",
    "\n"
   ]
  },
  {
   "cell_type": "code",
   "execution_count": null,
   "id": "195038e5",
   "metadata": {},
   "outputs": [],
   "source": [
    "import random\n",
    "from collections import defaultdict\n",
    "\n",
    "def preprocess_text(text):\n",
    "    # Simple text preprocessing (tokenization, lowercasing, etc.)\n",
    "    words = text.lower().split() # Basic splitting on spaces\n",
    "    return words\n",
    "\n",
    "def build_markov_chain(stories):\n",
    "    word_used = defaultdict(int)\n",
    "    next_word = defaultdict(lambda: defaultdict(int))\n",
    "    \n",
    "    # Preprocess and combine all stories\n",
    "    for story in stories:\n",
    "        words = preprocess_text(story)\n",
    "        for i, word in enumerate(words[:-1]):\n",
    "            word_used[word] += 1\n",
    "            next_word[word][words[i + 1]] += 1\n",
    "    \n",
    "    return word_used, next_word\n",
    "\n",
    "def generate_sentence(word_used, next_word, length=15):\n",
    "    word = random.choice(list(word_used.keys()))  # Start with a random word\n",
    "    sentence = [word]\n",
    "    \n",
    "    for _ in range(length - 1):\n",
    "        if word in next_word:\n",
    "            word = random.choices(list(next_word[word].keys()), weights=next_word[word].values())[0]\n",
    "            sentence.append(word)\n",
    "        else:\n",
    "            break\n",
    "    \n",
    "    return ' '.join(sentence)\n",
    "\n",
    "# Example of using multiple stories\n",
    "stories = [\n",
    "    \"Once upon a time there was a dragon who loved to eat apples.\",\n",
    "    \"In a distant land, a brave knight sought out the dragon.\",\n",
    "    \"The dragon and the knight became friends and shared many apples.\"\n",
    "]\n",
    "\n",
    "word_used, next_word = build_markov_chain(stories)\n",
    "sentence = generate_sentence(word_used, next_word, length=10)\n",
    "print(sentence)"
   ]
  },
  {
   "cell_type": "markdown",
   "id": "4023baad",
   "metadata": {},
   "source": [
    "#### 5. Recreate (or resume) the previous ChatBot session from question \"4\" above, and now  prompt the ChatBot session that you have a couple extensions of the code to show it, and then show it each of the extentions of the \"Markovian ChatBot code\" below in turn"
   ]
  },
  {
   "cell_type": "markdown",
   "id": "99520105",
   "metadata": {},
   "source": [
    "1. Without just supplying your ChatBot session with the answers, see if the ChatBot can figure out what the extensions in the code do; namely, making character specific Markov chains, and using bigrams (rather than just the previous word alone) dependency... prompt your ChatBot session with some hints if it's not seeming to \"get it\"<br><br>\n",
    "\n",
    "2. Interact with your ChatBot session to have it explain details of the code wherever you need help understanding what the code is doing and how it works<br><br>"
   ]
  },
  {
   "cell_type": "markdown",
   "id": "b4079a63",
   "metadata": {},
   "source": [
    "##### Summaries of Chatbots"
   ]
  },
  {
   "cell_type": "markdown",
   "id": "7f0c54ba",
   "metadata": {},
   "source": [
    "In this section, we are creating a bigram-based Markov model to analyze and generate text. The code tracks bigrams (two-word sequences) and the words that follow them, enabling the chatbot to produce more coherent and contextually accurate responses. The model distinguishes between different bigrams and maintains frequency counts for both the bigrams themselves and the words that follow them.\n",
    "\n",
    "Code Explanation\n",
    "Iterate through Words:\n",
    "\n",
    "The loop processes each word in the list, excluding the last two words to avoid index errors.\n",
    "Update Bigram Counts:\n",
    "\n",
    "word_used2 dictionary tracks the count of each bigram.\n",
    "Update Next Word Counts:\n",
    "\n",
    "next_word2 dictionary tracks the frequency of words that follow each bigram."
   ]
  },
  {
   "cell_type": "code",
   "execution_count": null,
   "id": "e14167bf",
   "metadata": {},
   "outputs": [],
   "source": [
    "from collections import defaultdict\n",
    "\n",
    "# Initialize dictionaries\n",
    "word_used2 = defaultdict(int)\n",
    "next_word2 = defaultdict(lambda: defaultdict(int))\n",
    "\n",
    "# Sample words list\n",
    "words = [\"the\", \"cat\", \"sat\", \"on\", \"the\", \"mat\"]\n",
    "\n",
    "# Build the bigram model\n",
    "for i, word in enumerate(words[:-2]):\n",
    "    bigram = word + ' ' + words[i + 1]\n",
    "    next_word = words[i + 2]\n",
    "    \n",
    "    # Update bigram counts\n",
    "    word_used2[bigram] += 1\n",
    "    \n",
    "    # Update next word counts for the bigram\n",
    "    next_word2[bigram][next_word] += 1\n",
    "\n",
    "# Example to check the results\n",
    "print(\"Bigram Counts:\", dict(word_used2))\n",
    "print(\"Next Word Counts:\", {k: dict(v) for k, v in next_word2.items()})"
   ]
  },
  {
   "cell_type": "markdown",
   "id": "aba2a9e7",
   "metadata": {},
   "source": [
    "Explanation of the Code\n",
    "word_used2: This dictionary counts occurrences of each bigram.\n",
    "next_word2: This nested dictionary records the frequency of words that follow each bigram.\n",
    "Loop: Iterates through the words list, constructing bigrams and updating the counts in word_used2 and next_word2."
   ]
  },
  {
   "cell_type": "markdown",
   "id": "be1e4379",
   "metadata": {},
   "source": [
    "#### Link: https://chatgpt.com/share/66ea2b0c-50cc-800b-9ecb-cc592cf85f4a"
   ]
  },
  {
   "cell_type": "markdown",
   "id": "fcb03f16",
   "metadata": {},
   "source": [
    "3. Start yet another new ChatBot session and first show the ChatBot the original \"Markovian ChatBot code\" below, and then tell ChatBot that you have an extension but this time just directly provide it the more complicated final extension without ever providing the intermediate extension code to the ChatBot session and see if it's still able to understand everything extension does; namely, making character specific Markov chains, and using bigrams (rather than just the previous word alone) dependency... prompt the ChatBot with some hints if it's not seeming to understand what you're getting at...<br><br>"
   ]
  },
  {
   "cell_type": "markdown",
   "id": "65e01c35",
   "metadata": {},
   "source": [
    "##### Summaries of Chatbots"
   ]
  },
  {
   "cell_type": "markdown",
   "id": "116c4bd8",
   "metadata": {},
   "source": [
    "Purpose:\n",
    "\n",
    "Extend the Markov model to include character-specific Markov chains with bigram dependencies.\n",
    "Components:\n",
    "\n",
    "word_used2C: Tracks the frequency of bigrams for each character.\n",
    "next_word2C: Tracks the frequency of words that follow each bigram for each character.\n",
    "Functionality:\n",
    "\n",
    "word_used2C updates counts for bigrams (two-word sequences) specific to each character.\n",
    "next_word2C updates counts for the next word following each bigram for each character."
   ]
  },
  {
   "cell_type": "code",
   "execution_count": null,
   "id": "7c62d05d",
   "metadata": {},
   "outputs": [],
   "source": [
    "from collections import Counter, defaultdict\n",
    "\n",
    "# Example data: avatar dataset\n",
    "# avatar.character should be a pandas Series with character names\n",
    "\n",
    "# Character preprocessing\n",
    "characters = Counter(\"\\n\" + avatar.character.str.upper().str.replace(' ', '.') + \":\")\n",
    "\n",
    "# Function to create nested dictionaries\n",
    "nested_dict = lambda: defaultdict(nested_dict)\n",
    "\n",
    "# Initialize dictionaries\n",
    "word_used2C = nested_dict()\n",
    "next_word2C = nested_dict()\n",
    "\n",
    "# Iterate through words to populate dictionaries\n",
    "for i, word in enumerate(words[:-2]):\n",
    "    # Determine the current character based on the current word\n",
    "    if word in characters:\n",
    "        character = word\n",
    "    \n",
    "    # Initialize dictionaries for the character if not already present\n",
    "    if character not in word_used2C:\n",
    "        word_used2C[character] = dict()\n",
    "    if word + ' ' + words[i + 1] not in word_used2C[character]:\n",
    "        word_used2C[character][word + ' ' + words[i + 1]] = 0\n",
    "    word_used2C[character][word + ' ' + words[i + 1]] += 1\n",
    "    \n",
    "    if character not in next_word2C:\n",
    "        next_word2C[character] = dict()\n",
    "    if word + ' ' + words[i + 1] not in next_word2C[character]:\n",
    "        next_word2C[character][word + ' ' + words[i + 1]] = dict()\n",
    "    if words[i + 2] not in next_word2C[character][word + ' ' + words[i + 1]]:\n",
    "        next_word2C[character][word + ' ' + words[i + 1]][words[i + 2]] = 0\n",
    "    next_word2C[character][word + ' ' + words[i + 1]][words[i + 2]] += 1\n"
   ]
  },
  {
   "cell_type": "markdown",
   "id": "34141f66",
   "metadata": {},
   "source": [
    "Preprocessing:\n",
    "\n",
    "Convert character names to uppercase and replace spaces with periods for consistency.\n",
    "Initialization:\n",
    "\n",
    "Use nested dictionaries to store bigram counts and next-word probabilities for each character.\n",
    "Update Frequencies:\n",
    "\n",
    "For each word pair and its following word, update the counts in word_used2C and next_word2C."
   ]
  },
  {
   "cell_type": "markdown",
   "id": "384e5c74",
   "metadata": {},
   "source": [
    "##### Link: https://chatgpt.com/share/66ea2c61-0618-800b-b0f1-a78c9339657c"
   ]
  },
  {
   "cell_type": "markdown",
   "id": "054e0f7a",
   "metadata": {},
   "source": [
    "#### 6. Report on your experience interacting with ChatBots to understand the Monte Hall problem and \"Markovian ChatBot\" code"
   ]
  },
  {
   "cell_type": "markdown",
   "id": "14107fcd",
   "metadata": {},
   "source": [
    "1. Discuss how quickly the ChatBot was able to be helpful for each of the above questions, and if so, how?<br><br>"
   ]
  },
  {
   "cell_type": "markdown",
   "id": "8beaeb13",
   "metadata": {},
   "source": [
    "The Chatbot can help me understand the Monte Hall problem very quickly. It first explained by words about how the Monte Hall problem can be coded. Then it directly gave me the example of the whole code and contained comments next to each step which is very clear and easy to read.\n",
    "\n",
    "In turms of Markovian ChatBot, its explanation was a little bit complex and uneasy to read. Especially when I directly give it the second extension, it seemed that it could not give me a proper answer. Besides, it provided me with some code to explain the Markovian ChatBot. But it was difficult to read because of out of scope."
   ]
  },
  {
   "cell_type": "markdown",
   "id": "9a0040c5",
   "metadata": {},
   "source": [
    "2. Discuss whether or not interacting with ChatBot to try to figure things out was frustrating or unhelpful, and if so, how?<br><br>"
   ]
  },
  {
   "cell_type": "markdown",
   "id": "973f1a80",
   "metadata": {},
   "source": [
    "interacting with ChatBot to try to figure things out was easy if you can provide it with some useful infromation and some prompts. It can show many example that can make you further understand something.\n",
    "\n",
    "But if you interact with ChatBot with little information or ask a invalid or very general question, it can be frustrating or unhelpful. The question you ask needs to be in detail and spercific."
   ]
  },
  {
   "cell_type": "markdown",
   "id": "090a62a3",
   "metadata": {},
   "source": [
    "3. Based on your experiences to date (e.g., including using ChatBots to troubleshoot coding errors in the previous homework), provide an overall assessment evaluating the usefulness of ChatBots as tools to help you understand code<br>"
   ]
  },
  {
   "cell_type": "markdown",
   "id": "95d9b6ab",
   "metadata": {},
   "source": [
    "ChatBots is really a very efficient tool for us to understand code. It can check the code for us, find the error and provide us a correct version. It can also give us many useful examples of coding with comments, which can open our mind and learn more things in Python. Besides, it can improve our efficiency of learning and finding errors. But it can be useless if you do not read the contents and understand it in your own mind. "
   ]
  },
  {
   "cell_type": "markdown",
   "id": "4d41a96e",
   "metadata": {},
   "source": [
    "#### 7. Reflect on your experience interacting with ChatBot and describe how your perception of AI-driven assistance tools in the context of learning coding, statistics, and data science has been evolving (or not) since joining the course<br><br>\n"
   ]
  },
  {
   "cell_type": "markdown",
   "id": "e9deda4f",
   "metadata": {},
   "source": [
    "At first, I did not even know we can use AI like Chatbot to learn coding and statistics. I thought it could only reply questions without codes and numbers. When the Prof asked us to use Chatbot to help us learn and finish the homework, I doubted at first. But later, when I followed the instructions and interacted with Chatbots, I found it was much stronger than I thought. It can always provide me with detailed explanations and examples. I gained a lot of coding knowledge and interesting skills when interacting with it. I gradually enjoy the process of interacting with Chatbot. I always ask further questions to gain more knowledge about coding and statistics. I think it is really a useful tool for us to learn coding and statistics now."
   ]
  },
  {
   "cell_type": "markdown",
   "id": "fbd64498",
   "metadata": {},
   "source": [
    "#### 8. ChatBots consume text data available on the web or platforms, and thus represents a new way to \"search consensensus\" that condenses and summarizes mainstream human thought<br><br>"
   ]
  },
  {
   "cell_type": "markdown",
   "id": "1d4333ae",
   "metadata": {},
   "source": [
    "#### Summaries of Chatbot"
   ]
  },
  {
   "cell_type": "markdown",
   "id": "5b3ee903",
   "metadata": {},
   "source": [
    "Programming Languages: Master key languages relevant to your work, like Python or Java.\n",
    "\n",
    "Problem-Solving: Ability to tackle complex problems and design efficient solutions.\n",
    "\n",
    "Data Structures and Algorithms: Understanding these fundamentals helps in writing effective and optimized code.\n",
    "    \n",
    "Version Control: Use tools like Git for managing code changes and collaborating.\n",
    "    \n",
    "Software Development Methodologies: Familiarity with Agile or Scrum can enhance project management and teamwork.\n",
    "    \n",
    "Debugging and Testing: Skills in debugging and testing ensure code quality and reliability.\n",
    "    \n",
    "Database Management: Knowledge of databases and query optimization is important for data-related tasks.\n",
    "    \n",
    "Frameworks and Libraries: Use relevant tools and libraries to streamline development.\n",
    "    \n",
    "Security Awareness: Write secure code and understand common vulnerabilities to protect applications.\n",
    "    \n",
    "Communication Skills: Clearly document code and collaborate effectively with team members.\n",
    "    \n",
    "These skills collectively support a successful and adaptable coding career."
   ]
  },
  {
   "cell_type": "markdown",
   "id": "dfb6b9d2",
   "metadata": {},
   "source": [
    "4. Paraphrase the assessments and conclusions of your conversation in the form of a reflection on your current thoughts regarding your potential future career(s) and how you can go about building the skills you need to pursue it<br><br>"
   ]
  },
  {
   "cell_type": "markdown",
   "id": "352f7db5",
   "metadata": {},
   "source": [
    "To become a coder, I nust learn how to code like how to use Pytjon or Java. I need to develop good problem-solving skills. Besides my onw abilities, I need to learn how to use AI and work in teams. Teamwork is really important when coding. To build the skills I need to pursue it, I need to learn up-to-date knowledge and communicate with others."
   ]
  },
  {
   "cell_type": "markdown",
   "id": "0878947b",
   "metadata": {},
   "source": [
    "5. Give your thoughts regarding the helpfulness or limitations of your conversation with a ChatBot, and describe the next steps you would take to pursue this conversation further if you felt the information the ChatBot provides was somewhat high level and general, and perhaps lacked the depth and detailed knowledge of a dedicated subject matter expert who had really take the time to understand the ins and outs of the industry and career path in question.\n",
    "<br><br>"
   ]
  },
  {
   "cell_type": "markdown",
   "id": "e34bdfa5",
   "metadata": {},
   "source": [
    "Conversations with a chatbot can help us quickly identify mistakes and gain knowledge, but these interactions have limitations. The knowledge provided by the chatbot is already existing; if we only rely on conversations with the chatbot, human knowledge will not advance or develop. If the information provided by the chatbot is too general and lacks specialized knowledge, I would include specific terminology or ask more detailed questions to get further insights."
   ]
  },
  {
   "cell_type": "markdown",
   "id": "50173a7d",
   "metadata": {},
   "source": [
    "#### 9. Have you reviewed the course [wiki-textbook](https://github.com/pointOfive/stat130chat130/wiki) and interacted with a ChatBot (or, if that wasn't sufficient, real people in the course piazza discussion board or TA office hours) to help you understand all the material in the tutorial and lecture that you didn't quite follow when you first saw it?<br><br>"
   ]
  },
  {
   "cell_type": "markdown",
   "id": "a4f10d69",
   "metadata": {},
   "source": [
    "Yes."
   ]
  },
  {
   "cell_type": "code",
   "execution_count": null,
   "id": "365eac8a",
   "metadata": {},
   "outputs": [],
   "source": []
  }
 ],
 "metadata": {
  "kernelspec": {
   "display_name": "Python 3 (ipykernel)",
   "language": "python",
   "name": "python3"
  },
  "language_info": {
   "codemirror_mode": {
    "name": "ipython",
    "version": 3
   },
   "file_extension": ".py",
   "mimetype": "text/x-python",
   "name": "python",
   "nbconvert_exporter": "python",
   "pygments_lexer": "ipython3",
   "version": "3.11.6"
  }
 },
 "nbformat": 4,
 "nbformat_minor": 5
}
