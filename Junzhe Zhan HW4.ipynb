{
 "cells": [
  {
   "cell_type": "markdown",
   "id": "62a233d9",
   "metadata": {},
   "source": [
    "#### 1. The \"Pre-lecture\" video (above) mentioned the \"standard error of the mean\" as being the \"standard deviation\" of the distribution bootstrapped means.  What is the difference between the \"standard error of the mean\" and the \"standard deviation\" of the original data? What distinct ideas do each of these capture? Explain this concisely in your own words.<br>"
   ]
  },
  {
   "cell_type": "markdown",
   "id": "f68ad1dc",
   "metadata": {},
   "source": [
    "The standard deviation of the original data measures the variability of individual data points in your sample, it shows how spread out the values are around the sample mean. It reflects the spread of the data.\n",
    "\n",
    "The standard error of the mean, on the other hand, measures the variability of the sample means if you repeatedly sampled from the population. It represents how much the sample mean is expected to vary from the true population mean. It reflects the precision of the sample mean as an estimate of the population mean.\n",
    "\n",
    "The SE is smaller than the SD because it's based on the distribution of means rather than individual data points."
   ]
  },
  {
   "cell_type": "markdown",
   "id": "bc6f434a",
   "metadata": {},
   "source": [
    "#### 2. The \"Pre-lecture\" video (above) suggested that the \"standard error of the mean\" could be used to create a confidence interval, but didn't describe exactly how to do this.  How can we use the \"standard error of the mean\" to create a 95% confidence interval which \"covers 95% of the bootstrapped sample means\"? Explain this concisely in your own words.<br>"
   ]
  },
  {
   "cell_type": "markdown",
   "id": "a28f2159",
   "metadata": {},
   "source": [
    "Calculate the Standard Error of the Mean: This is done by dividing the standard deviation of your sample by the square root of the sample size.\n",
    "    \n",
    "Determine the Confidence Interval Range: For a 95% confidence interval, the multiplier is 2. Multiply the SE by 1.96 to find the margin of error.\n",
    "    \n",
    "Construct the Interval: Add and subtract this margin of error from the sample mean. This interval will contain 95% of the bootstrapped sample means, assuming the distribution of sample means is approximately normal."
   ]
  },
  {
   "cell_type": "markdown",
   "id": "bfd596ad",
   "metadata": {},
   "source": [
    "#### 3. Creating the \"sample mean plus and minus about 2 times the standard error\" confidence interval addressed in the previous problem should indeed cover approximately 95% of the bootstrapped sample means. Alternatively, how do we create a 95% bootstrapped confidence interval using the bootstrapped means (without using their standard deviation to estimate the standard error of the mean)? Explain this concisely in your own words.<br>"
   ]
  },
  {
   "cell_type": "markdown",
   "id": "daed6067",
   "metadata": {},
   "source": [
    "Generate Bootstrapped Means: Resample your data with replacement many times to create a distribution of bootstrapped sample means.\n",
    "    \n",
    "Sort the Bootstrapped Means: Arrange the bootstrapped sample means in ascending order.\n",
    "    \n",
    "Determine the Percentiles: To form a 95% confidence interval, find the 2.5th percentile and the 97.5th percentile of the sorted bootstrapped means. These percentiles will give you the lower and upper bounds of the confidence interval. This interval captures the central 95% of the bootstrapped means directly, without relying on the standard error."
   ]
  },
  {
   "cell_type": "markdown",
   "id": "0147dde3",
   "metadata": {},
   "source": [
    "#### 4. The \"Pre-lecture\" video (above) mentioned that bootstrap confidence intervals could apply to other statistics of the sample, such as the \"median\". Work with a ChatBot to create code to produce a 95% bootstrap confidence interval for a population mean based on a sample that you have and comment the code to demonstrate how the code can be changed to produce a 95% bootstrap confidence interval for different population parameter (other than the population mean, such as the population median).<br>"
   ]
  },
  {
   "cell_type": "code",
   "execution_count": null,
   "id": "dd1bee12",
   "metadata": {},
   "outputs": [],
   "source": [
    "import numpy as np\n",
    "\n",
    "# Sampling data (replace with actual sample data)\n",
    "data = np.random.randn(100)  # Generating a random sample of 100 from a normal distribution\n",
    "\n",
    "# set up the number of bootstrap resamples\n",
    "n_bootstrap = 10000\n",
    "\n",
    "# Create an empty array to store bootstrap estimates\n",
    "bootstrap_estimates = np.zeros(n_bootstrap)\n",
    "\n",
    "# Loop to generate bootstrap resamples and calculate the statistic of interest (mean in this case)\n",
    "for i in range(n_bootstrap):\n",
    "    # Generate a bootstrap resample by sampling with replacement from the original data\n",
    "    resample = np.random.choice(data, size=len(data), replace=True)\n",
    "    \n",
    "    # Calculate the mean of the bootstrap resample (you can change this to median or other statistics)\n",
    "    bootstrap_estimates[i] = np.mean(resample)\n",
    "\n",
    "# Calculate the 95% confidence interval (using percentiles)\n",
    "lower_bound = np.percentile(bootstrap_estimates, 2.5)\n",
    "upper_bound = np.percentile(bootstrap_estimates, 97.5)\n",
    "\n",
    "# Output the 95% confidence interval\n",
    "print(f\"95% Bootstrap Confidence Interval for Mean: ({lower_bound}, {upper_bound})\")\n",
    "\n",
    "#Change mean to median or other statistics\n",
    "bootstrap_estimates[i] = np.median(resample)\n",
    "bootstrap_estimates[i] = np.var(resample)"
   ]
  },
  {
   "cell_type": "markdown",
   "id": "2bfde1fe",
   "metadata": {},
   "source": [
    "#### Summary of Chatbot:"
   ]
  },
  {
   "cell_type": "markdown",
   "id": "d7674fc6",
   "metadata": {},
   "source": [
    "In this session, I provided Python code to create a 95% bootstrap confidence interval for the population mean based on a sample of data. I explained the steps of the code, including generating bootstrap resamples, calculating the mean of each resample, and then computing the confidence interval using the 2.5th and 97.5th percentiles of the bootstrap estimates.\n",
    "\n",
    "Additionally, I showed how to modify the code to compute a 95% confidence interval for other statistics like the median by simply replacing the line calculating the mean with one that calculates the median. The same method can be applied to other statistics like variance or standard deviation."
   ]
  },
  {
   "cell_type": "markdown",
   "id": "d1eb4cf4",
   "metadata": {},
   "source": [
    "#### Link: https://chatgpt.com/share/66fb71c5-8d7c-800b-9ebf-8af5b62b9019"
   ]
  },
  {
   "cell_type": "markdown",
   "id": "e9dfc166",
   "metadata": {},
   "source": [
    "#### 5. The previous question addresses making a confidence interval for a population parameter based on a sample statistic. Why do we need to distinguish between the role of the popualation parameter and the sample sample statistic when it comes to confidence intervals? Explain this concisely in your own words.<br>"
   ]
  },
  {
   "cell_type": "markdown",
   "id": "999a9ee0",
   "metadata": {},
   "source": [
    "The population parameter is the real, unknown value we are trying to estimate, while the sample statistic is the estimate based on our sample data. Confidence intervals quantify the uncertainty in this estimate, giving a range of plausible values for the population parameter based on the sample statistics."
   ]
  },
  {
   "cell_type": "markdown",
   "id": "8ab66d28",
   "metadata": {},
   "source": [
    "#### Summary of Chatbot:"
   ]
  },
  {
   "cell_type": "markdown",
   "id": "f16392e5",
   "metadata": {},
   "source": [
    "In this session, you asked for an explanation on why it’s important to distinguish between a population parameter and a sample statistic when creating confidence intervals. I explained that the population parameter is the unknown true value we aim to estimate, while the sample statistic is the estimate based on sample data, and confidence intervals represent the uncertainty in this estimate."
   ]
  },
  {
   "cell_type": "markdown",
   "id": "0ad549c7",
   "metadata": {},
   "source": [
    "#### Link: https://chatgpt.com/share/66fd656d-974c-800b-8aaf-b170911e8d27"
   ]
  },
  {
   "cell_type": "markdown",
   "id": "5cd7c67b",
   "metadata": {},
   "source": [
    "#### 6. Provide written answers explaining the answers to the following questions in an informal manner of a conversation with a friend with little experience with statistics. <br>"
   ]
  },
  {
   "cell_type": "markdown",
   "id": "ec3fe845",
   "metadata": {},
   "source": [
    "1. What is the process of bootstrapping?"
   ]
  },
  {
   "cell_type": "markdown",
   "id": "14f41197",
   "metadata": {},
   "source": [
    "Bootstrapping is a method used to estimate the variability or accuracy of a sample statistic (like the mean or median) by creating many \"new\" datasets from the original dataset. It helps you get a sense of how reliable your sample's results are without needing more data. You randomly pick items from your original dataset to create a new dataset (called a \"bootstrap sample\"), but with a twist: after picking an item, you put it back. You do this resampling process hundreds or even thousands of times to create many different bootstrap samples.For each bootstrap sample, you calculate the statistic you’re interested in, like the average or the median.Once you’ve calculated the statistic for all your bootstrap samples, you can create a distribution of these results. This gives you an idea of how much your original estimate (e.g., mean) might vary in the real world."
   ]
  },
  {
   "cell_type": "markdown",
   "id": "144ec082",
   "metadata": {},
   "source": [
    "2. What is the main purpose of bootstrapping? "
   ]
  },
  {
   "cell_type": "markdown",
   "id": "8317e600",
   "metadata": {},
   "source": [
    "The main purpose of bootstrapping is to estimate the accuracy and reliability of a sample statistic (like the mean, median, or any other estimate) when you don’t have enough data or when traditional methods for estimating uncertainty are difficult to apply. By repeatedly resampling your original data, bootstrapping helps quantify variability, build confidence intervals."
   ]
  },
  {
   "cell_type": "markdown",
   "id": "674cb21a",
   "metadata": {},
   "source": [
    "3. If you had a (hypothesized) guess about what the average of a population was, and you had a sample of size n from that population, how could you use bootstrapping to assess whether or not your (hypothesized) guess might be plausible?"
   ]
  },
  {
   "cell_type": "markdown",
   "id": "255b6a28",
   "metadata": {},
   "source": [
    "You can use bootstrapping. You have a sample of size 𝑛 from the population, and a hypothesized average, which you think might be the true population mean. \n",
    "\n",
    "Use bootstrapping to create a large number of resamples (say 1,000 or more) from your original sample. Each resample should be the same size, and you draw items with replacement.\n",
    "\n",
    "For each bootstrap sample, calculate the sample mean. After repeating this process many times, you’ll get a distribution of means that represents the variability you might expect if you repeatedly sampled from the population.\n",
    "\n",
    "Now, check where your hypothesized average falls relative to the distribution of bootstrap sample means:If the hypothesized mean is near the center of this distribution, it suggests that the hypothesis is plausible. You can use the bootstrap distribution to construct a confidence interval for the true mean. If your hypothesized mean falls within this interval, it’s considered plausible."
   ]
  },
  {
   "cell_type": "markdown",
   "id": "bfa1730d",
   "metadata": {},
   "source": [
    "#### 7. The \"Pre-lecture\" video (above) introduced hypothesis testing by saying that \"the confidence interval covers zero, so we cannot reject the hypothesis that the drug is **[on average]** not doing anything\".  This conclusion could be referred to as \"failing to reject the null hypothesis\", where the term \"null\" refers to the concept of \"no effect **[on average]**\".  Why does a confidence interval overlapping zero \"fail to reject the null hypothesis\" when the observed sample mean statistic itself is not zero? Alternatively, what would lead to the opposite conclusion in this context; namely, instead choosing \"to reject the null hypothesis\"? Explain the answers to these questions concisely in your own words.<br>"
   ]
  },
  {
   "cell_type": "markdown",
   "id": "3089ae33",
   "metadata": {},
   "source": [
    "A confidence interval overlapping zero means that the range of plausible values for the true effect includes zero, suggesting that \"no effect\" (or zero effect) is a possibility based on the data. Therefore, we cannot confidently say the drug has a meaningful effect, and we \"fail to reject the null hypothesis.\""
   ]
  },
  {
   "cell_type": "markdown",
   "id": "49d47805",
   "metadata": {},
   "source": [
    "Even though the observed sample mean is not zero, the confidence interval tells us how much uncertainty is in our estimate. If zero is included, we can't rule out the possibility that any observed effect might be due to chance."
   ]
  },
  {
   "cell_type": "markdown",
   "id": "afd45105",
   "metadata": {},
   "source": [
    "On the other hand, if the confidence interval does not include zero, it indicates that all plausible values for the true effect are either positive or negative. This would suggest that the drug likely has an effect, leading us to reject the null hypothesis and conclude that there is evidence the drug works."
   ]
  },
  {
   "cell_type": "markdown",
   "id": "0782888f",
   "metadata": {},
   "source": [
    "#### 8. Complete the following assignment. "
   ]
  },
  {
   "cell_type": "markdown",
   "id": "4c7f737b",
   "metadata": {},
   "source": [
    "Data Visualization\n",
    "A good starting point for visual insight is a simple comparison between the Initial Health Scores and Final Health Scores using a bar plot or paired box plot. This visual comparison provides an intuitive sense of whether health scores tend to improve post-vaccine."
   ]
  },
  {
   "cell_type": "markdown",
   "id": "5a644cb3",
   "metadata": {},
   "source": [
    "Quantitative Analysis\n",
    "We will use bootstrapping to generate a distribution of the difference between final and initial health scores. Bootstrapping allows us to estimate the sampling distribution of a statistic by resampling the dataset with replacement. It is particularly useful when the sample size is small, as in this case.\n",
    "\n",
    "Steps:\n",
    "\n",
    "Resample the dataset 10,000 times with replacement.\n",
    "Calculate the difference between final and initial health scores for each resample.\n",
    "Build a bootstrap confidence interval for the mean difference.\n",
    "Use the bootstrapped distribution to perform a hypothesis test.\n"
   ]
  },
  {
   "cell_type": "code",
   "execution_count": 5,
   "id": "bd2c516f",
   "metadata": {},
   "outputs": [
    {
     "data": {
      "image/png": "[encoded data removed]",
      "text/plain": [
       "<Figure size 1000x600 with 1 Axes>"
      ]
     },
     "metadata": {},
     "output_type": "display_data"
    }
   ],
   "source": [
    "import numpy as np\n",
    "import matplotlib.pyplot as plt\n",
    "\n",
    "# Setting a seed for reproducibility\n",
    "np.random.seed(42)\n",
    "\n",
    "# Define the initial and final health scores\n",
    "initial_health_scores = np.array([84, 78, 83, 81, 81, 80, 79, 85, 76, 83])\n",
    "final_health_scores = np.array([86, 86, 80, 86, 84, 86, 86, 82, 83, 84])\n",
    "\n",
    "# Plotting initial and final health scores\n",
    "patients = np.arange(1, 11)  # Patient IDs\n",
    "\n",
    "plt.figure(figsize=(10, 6))\n",
    "plt.bar(patients - 0.2, initial_health_scores, width=0.4, label='Initial Health Score', color='skyblue')\n",
    "plt.bar(patients + 0.2, final_health_scores, width=0.4, label='Final Health Score', color='salmon')\n",
    "plt.xlabel('Patient ID')\n",
    "plt.ylabel('Health Score')\n",
    "plt.title('Initial vs Final Health Scores')\n",
    "plt.legend()\n",
    "plt.xticks(patients)\n",
    "plt.show()"
   ]
  },
  {
   "cell_type": "markdown",
   "id": "54755e40",
   "metadata": {},
   "source": [
    "The bar plot above visually compares the Initial Health Scores and Final Health Scores for each patient. For most patients, the final health scores appear to be higher or at least equal to the initial scores, suggesting an improvement in health after receiving the vaccine.\n",
    "\n",
    "Now, I will proceed with the bootstrapping analysis to quantify this improvement and test the null hypothesis. ​"
   ]
  },
  {
   "cell_type": "code",
   "execution_count": 8,
   "id": "f77bd0b3",
   "metadata": {},
   "outputs": [
    {
     "data": {
      "image/png": "[encoded data removed]",
      "text/plain": [
       "<Figure size 1000x600 with 1 Axes>"
      ]
     },
     "metadata": {},
     "output_type": "display_data"
    },
    {
     "data": {
      "text/plain": [
       "(3.3107300000000004, array([0.9, 5.6]))"
      ]
     },
     "execution_count": 8,
     "metadata": {},
     "output_type": "execute_result"
    }
   ],
   "source": [
    "# Function to perform bootstrapping\n",
    "def bootstrap_means_diff(initial_scores, final_scores, n_iterations=10000):\n",
    "    n = len(initial_scores)\n",
    "    bootstrapped_means = np.zeros(n_iterations)\n",
    "    \n",
    "    # Perform bootstrapping\n",
    "    for i in range(n_iterations):\n",
    "        # Resample with replacement\n",
    "        resample_indices = np.random.choice(n, size=n, replace=True)\n",
    "        resample_initial = initial_scores[resample_indices]\n",
    "        resample_final = final_scores[resample_indices]\n",
    "        \n",
    "        # Compute the mean difference for this resample\n",
    "        bootstrapped_means[i] = np.mean(resample_final - resample_initial)\n",
    "    \n",
    "    return bootstrapped_means\n",
    "\n",
    "# Perform bootstrapping\n",
    "n_iterations = 10000\n",
    "bootstrapped_means = bootstrap_means_diff(initial_health_scores, final_health_scores, n_iterations)\n",
    "\n",
    "# Calculate the 95% confidence interval\n",
    "confidence_interval = np.percentile(bootstrapped_means, [2.5, 97.5])\n",
    "\n",
    "# Plot the bootstrapped distribution of mean differences\n",
    "plt.figure(figsize=(10, 6))\n",
    "plt.hist(bootstrapped_means, bins=30, color='lightblue', edgecolor='black')\n",
    "plt.axvline(np.mean(bootstrapped_means), color='red', linestyle='dashed', linewidth=2, label=f'Mean Difference: {np.mean(bootstrapped_means):.2f}')\n",
    "plt.axvline(confidence_interval[0], color='green', linestyle='dashed', linewidth=2, label=f'95% CI Lower: {confidence_interval[0]:.2f}')\n",
    "plt.axvline(confidence_interval[1], color='green', linestyle='dashed', linewidth=2, label=f'95% CI Upper: {confidence_interval[1]:.2f}')\n",
    "plt.title('Bootstrapped Distribution of Mean Differences (Final - Initial)')\n",
    "plt.xlabel('Mean Difference')\n",
    "plt.ylabel('Frequency')\n",
    "plt.legend()\n",
    "plt.show()\n",
    "\n",
    "# Mean of bootstrapped means and the 95% confidence interval\n",
    "np.mean(bootstrapped_means), confidence_interval"
   ]
  },
  {
   "cell_type": "markdown",
   "id": "e6df630d",
   "metadata": {},
   "source": [
    "The bootstrapping analysis reveals the following:\n",
    "\n",
    "Mean Bootstrapped Difference: 3.31 (Final Health Score - Initial Health Score)\n",
    "95% Confidence Interval: [0.9, 5.6]"
   ]
  },
  {
   "cell_type": "markdown",
   "id": "293dafd4",
   "metadata": {},
   "source": [
    "The bootstrapped mean difference of 3.31 indicates that, on average, the final health scores are about 3.31 points higher than the initial scores.\n",
    "The 95% confidence interval does not include 0, which suggests that the improvement is statistically significant. This supports the conclusion that the vaccine likely has a positive effect on health."
   ]
  },
  {
   "cell_type": "markdown",
   "id": "a9b991b4",
   "metadata": {},
   "source": [
    "#### Summary of Chatbot:"
   ]
  },
  {
   "cell_type": "markdown",
   "id": "5b8b6965",
   "metadata": {},
   "source": [
    "Objective:\n",
    "\n",
    "The goal was to assess the effectiveness of a new vaccine developed by AliTech in improving patients' health scores.\n",
    "Data:\n",
    "\n",
    "The dataset included health scores for 10 patients before (Initial Health Score) and after (Final Health Score) receiving the vaccine.\n",
    "Statistical Hypothesis:\n",
    "\n",
    "Null Hypothesis (H₀): The vaccine has no effect, meaning the final health scores are not significantly different from the initial scores.\n",
    "Alternative Hypothesis (H₁): The vaccine has a positive effect, meaning the final health scores are significantly higher than the initial scores.\n",
    "Data Visualization:\n",
    "\n",
    "A bar plot was created to visually compare the initial and final health scores, showing that most patients had improved health scores post-vaccine.\n",
    "Quantitative Analysis using Bootstrapping:\n",
    "\n",
    "A bootstrapping analysis was performed to quantify the improvement in health scores and to test the null hypothesis.\n",
    "A custom function was defined to generate 10,000 bootstrapped samples of the difference between final and initial health scores.\n",
    "A histogram was plotted to show the distribution of mean differences from the bootstrapping process.\n",
    "Results:\n",
    "\n",
    "The mean bootstrapped difference in health scores was approximately 3.31, with a 95% confidence interval of [0.9, 5.6].\n",
    "The confidence interval does not include zero, indicating significant evidence to reject the null hypothesis.\n",
    "Conclusion:\n",
    "\n",
    "The analysis provided strong evidence that the vaccine is effective in improving health outcomes, supporting the claim that patients experienced a significant increase in their health scores after vaccination.\n",
    "Code Implementation:\n",
    "\n",
    "The complete code was provided, which included data visualization, bootstrapping, and statistical analysis."
   ]
  },
  {
   "cell_type": "markdown",
   "id": "06f63109",
   "metadata": {},
   "source": [
    "#### Link: https://chatgpt.com/share/66fd742d-92ac-800b-80b7-b3202d27e45a"
   ]
  },
  {
   "cell_type": "markdown",
   "id": "bb618511",
   "metadata": {},
   "source": [
    "#### 9. Have you reviewed the course wiki-textbook and interacted with a ChatBot (or, if that wasn't sufficient, real people in the course piazza discussion board or TA office hours) to help you understand all the material in the tutorial and lecture that you didn't quite follow when you first saw it?<br>"
   ]
  },
  {
   "cell_type": "markdown",
   "id": "41c8cd5b",
   "metadata": {},
   "source": [
    "Yes."
   ]
  },
  {
   "cell_type": "code",
   "execution_count": null,
   "id": "5852ab5d",
   "metadata": {},
   "outputs": [],
   "source": []
  }
 ],
 "metadata": {
  "kernelspec": {
   "display_name": "Python 3 (ipykernel)",
   "language": "python",
   "name": "python3"
  },
  "language_info": {
   "codemirror_mode": {
    "name": "ipython",
    "version": 3
   },
   "file_extension": ".py",
   "mimetype": "text/x-python",
   "name": "python",
   "nbconvert_exporter": "python",
   "pygments_lexer": "ipython3",
   "version": "3.11.6"
  }
 },
 "nbformat": 4,
 "nbformat_minor": 5
}
