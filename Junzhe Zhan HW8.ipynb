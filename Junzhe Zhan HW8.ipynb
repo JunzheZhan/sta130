{
 "cells": [
  {
   "cell_type": "markdown",
   "id": "f3ab3935",
   "metadata": {},
   "source": [
    "### 1. Start a ChatBot session to understand what a *Classification Decision Tree* is: (a) ask the ChatBot to describe the type of problem a *Classification Decision Tree* addresses and provide some examples of real-world applications where this might be particularly useful, and then (b) make sure you understand the difference between how a *Classification Decision Tree* makes *(classification) predictions* versus how *Multiple Linear Regression* makes *(regression) predictions*<br>"
   ]
  },
  {
   "cell_type": "markdown",
   "id": "1a5f76f2",
   "metadata": {},
   "source": [
    "A Classification Decision Tree is a supervised machine learning model used to solve classification problems. These problems involve categorizing data points into predefined labels or groups based on their features. The model works by recursively splitting the dataset into subsets based on feature values, aiming to maximize the homogeneity of the resulting subsets"
   ]
  },
  {
   "cell_type": "markdown",
   "id": "0a5705ca",
   "metadata": {},
   "source": [
    "Disease Diagnosis: Predicting whether a patient has a disease (e.g., diabetes or cancer) based on symptoms, medical history, and diagnostic test results.\n",
    "Risk Assessment: Classifying patients into \"low-risk\" or \"high-risk\" categories for complications or readmission."
   ]
  },
  {
   "cell_type": "markdown",
   "id": "0ad6e748",
   "metadata": {},
   "source": [
    "Classification Decision Tree: Solves classification problems where the target variable is categorical. The goal is to predict which class (e.g., \"Yes\" or \"No\") a data point belongs to.\n",
    "Multiple Linear Regression (MLR): Solves regression problems where the target variable is continuous. The goal is to predict a numerical value (e.g., house prices, temperatures)."
   ]
  },
  {
   "cell_type": "markdown",
   "id": "045c219f",
   "metadata": {},
   "source": [
    "### Summary of Chatbot:"
   ]
  },
  {
   "cell_type": "markdown",
   "id": "e73d6d90",
   "metadata": {},
   "source": [
    "Summary of the Session\n",
    "Classification Decision Tree Problem Scope:\n",
    "\n",
    "Purpose: Solves classification problems by categorizing data points into predefined classes.\n",
    "Applications: Includes healthcare (disease diagnosis, risk assessment), marketing (churn prediction, customer segmentation), finance (credit scoring, fraud detection), education (student performance prediction), and environment (wildfire risk classification).\n",
    "Comparison Between Classification Decision Tree and Multiple Linear Regression (MLR):\n",
    "\n",
    "Type of Problem:\n",
    "Decision Tree: Classification (categorical output).\n",
    "MLR: Regression (continuous output).\n",
    "Prediction Mechanism:\n",
    "Decision Tree: Uses feature splits to create decision rules; assigns classes based on the majority in leaf nodes.\n",
    "MLR: Uses a linear equation combining feature coefficients to predict a numerical target.\n",
    "Nature of Decision-Making:\n",
    "Decision Tree: Non-linear and hierarchical.\n",
    "MLR: Assumes linear relationships between features and target.\n",
    "Interpretability:\n",
    "Decision Tree: Provides clear, step-by-step decision paths.\n",
    "MLR: Shows feature contributions through coefficients in a formula.\n",
    "Example Scenarios:\n",
    "\n",
    "Decision Tree: Classifying loan applications as \"approve\" or \"reject.\"\n",
    "MLR: Predicting house prices based on size, number of bedrooms, and location.\n",
    "The discussion emphasized the complementary nature of these techniques for tackling distinct problem types."
   ]
  },
  {
   "cell_type": "markdown",
   "id": "170aa19b",
   "metadata": {},
   "source": [
    "#### Link: https://chatgpt.com/share/673b7c49-fa28-800b-927b-6074896a44d6"
   ]
  },
  {
   "cell_type": "markdown",
   "id": "ae9c4c83",
   "metadata": {},
   "source": [
    "### 2. Continue your ChatBot session and explore with your ChatBot what real-world application scenario(s) might be most appropriately addressed by each of the following *metrics* below: provide your answers and, in your own words, *concisely explain your rationale for your answers.*<br>"
   ]
  },
  {
   "cell_type": "markdown",
   "id": "1b0c47b0",
   "metadata": {},
   "source": [
    "1. **Accuracy** measures the proportion of true results (both true positives and true negatives) in the population."
   ]
  },
  {
   "cell_type": "markdown",
   "id": "63cb3cb0",
   "metadata": {},
   "source": [
    "Scenario: Email Spam Classification\n",
    "\n",
    "Application: Determining whether an incoming email is \"spam\" or \"not spam.\"\n",
    "\n",
    "Rationale:\n",
    "In spam classification, the dataset often has a balanced or near-balanced proportion of spam and non-spam emails.\n",
    "A high accuracy reflects that the classifier correctly handles the majority of emails."
   ]
  },
  {
   "cell_type": "markdown",
   "id": "8f4d7990",
   "metadata": {},
   "source": [
    "2. **Sensitivity** measures the proportion of actual positives that are correctly identified."
   ]
  },
  {
   "cell_type": "markdown",
   "id": "b02399ff",
   "metadata": {},
   "source": [
    "Scenario: Disease Screening (e.g., Cancer Detection)\n",
    "\n",
    "Application: Identifying patients with a disease, such as cancer, based on diagnostic tests.\n",
    "\n",
    "Rationale:\n",
    "Sensitivity (also called recall) is crucial in this context because missing a true positive (failing to detect a person who has the disease) can have severe consequences for the patient’s health.\n",
    "A high sensitivity ensures that most patients with the disease are flagged for further testing or treatment, minimizing false negatives"
   ]
  },
  {
   "cell_type": "markdown",
   "id": "90d0e7bf",
   "metadata": {},
   "source": [
    "3. **Specificity** measures the proportion of actual negatives that are correctly identified."
   ]
  },
  {
   "cell_type": "markdown",
   "id": "6945cd29",
   "metadata": {},
   "source": [
    "Scenario: Fraud Detection in Credit Card Transactions\n",
    "\n",
    "Application: Identifying legitimate transactions (non-fraudulent) to minimize disruptions for customers.\n",
    "\n",
    "Rationale:\n",
    "Specificity is important because falsely flagging legitimate transactions (\n",
    "𝐹\n",
    "𝑃 as fraud can frustrate customers and harm their experience.\n",
    "A high specificity ensures that the system correctly identifies most legitimate transactions while minimizing false positives."
   ]
  },
  {
   "cell_type": "markdown",
   "id": "7d58ec82",
   "metadata": {},
   "source": [
    "4. **Precision** measures the proportion of positive identifications that were actually correct."
   ]
  },
  {
   "cell_type": "markdown",
   "id": "d60e6ba7",
   "metadata": {},
   "source": [
    "Scenario: Spam Email Filtering\n",
    "\n",
    "Application: Classifying emails as \"spam\" or \"not spam.\"\n",
    "\n",
    "Rationale:\n",
    "Precision is crucial here because incorrectly labeling a legitimate email as spam (\n",
    "𝐹\n",
    "𝑃\n",
    ") can lead to important messages being missed by the user.\n",
    "A high precision ensures that most of the emails flagged as spam are truly spam, minimizing the number of false positives."
   ]
  },
  {
   "cell_type": "markdown",
   "id": "ee4fbc4b",
   "metadata": {},
   "source": [
    "### Summary of Chatbot:"
   ]
  },
  {
   "cell_type": "markdown",
   "id": "3ea061df",
   "metadata": {},
   "source": [
    "Summary of the Session\n",
    "We explored real-world application scenarios where specific evaluation metrics are most appropriate, considering the nature of the problem and the trade-offs involved:\n",
    "\n",
    "Accuracy:\n",
    "\n",
    "Scenario: Email spam classification.\n",
    "Why: Useful when class proportions are balanced, and the costs of false positives (FP) and false negatives (FN) are similar. Accuracy measures the overall correctness of predictions.\n",
    "Sensitivity (Recall):\n",
    "\n",
    "Scenario: Disease screening (e.g., cancer detection).\n",
    "Why: Critical in contexts where missing true positives (e.g., undiagnosed cases) has severe consequences. Sensitivity focuses on correctly identifying as many actual positives as possible.\n",
    "Specificity:\n",
    "\n",
    "Scenario: Fraud detection in credit card transactions.\n",
    "Why: Important for minimizing false positives (e.g., legitimate transactions flagged as fraudulent), ensuring most actual negatives are correctly identified.\n",
    "Precision:\n",
    "\n",
    "Scenario: Spam email filtering.\n",
    "Why: Relevant when false positives (e.g., marking legitimate emails as spam) are costly. Precision measures the proportion of correct positive predictions.\n",
    "The discussion emphasized selecting metrics based on the problem's goals and the relative costs of different types of errors (FP vs. FN). This helps tailor model evaluation to the real-world impact of predictions."
   ]
  },
  {
   "cell_type": "markdown",
   "id": "b3966813",
   "metadata": {},
   "source": [
    "#### Link: https://chatgpt.com/share/673b7c49-fa28-800b-927b-6074896a44d6"
   ]
  },
  {
   "cell_type": "markdown",
   "id": "04a981f9",
   "metadata": {},
   "source": [
    "### 3. Explore the amazon books dataset, seen previously at the start of the semester, providing some initital standard *exploratory data analysis (EDA)* and data summarization after pre-processing the dataset to meet the requirements below<br>"
   ]
  },
  {
   "cell_type": "markdown",
   "id": "35dd96d0",
   "metadata": {},
   "source": [
    "Step 1: We drop the specified columns using drop().\n",
    "\n",
    "Step 2: We remove rows with NaN values using dropna().\n",
    "\n",
    "Step 3 & 4: We convert the relevant columns (Pub year, NumPages, Hard_or_Paper) to the specified types.\n",
    "\n",
    "Step 5: describe() provides summary statistics for all columns in the dataset.\n",
    "\n",
    "Step 6: value_counts() helps us understand the distribution of the categorical variable Hard_or_Paper.\n",
    "\n",
    "Step 7: We specifically analyze numerical variables (like Price, NumPages, and Rating) using describe().\n",
    "\n",
    "Step 8: We check for any remaining NaN values after the cleaning process.\n",
    "\n",
    "This code will give you an overview of the dataset, after cleaning, with both categorical and numerical summaries, so you can better understand the structure and distribution of the data."
   ]
  },
  {
   "cell_type": "markdown",
   "id": "03418a78",
   "metadata": {},
   "source": [
    "### 4. Create an 80/20 split with 80% of the data as a training set *ab_reduced_noNaN_train* and 20% of the data testing set  *ab_reduced_noNaN_test* using either *df.sample(...)* as done in TUT or using *train_test_split(...)* as done in the previous HW, and report on how many observations there are in the training data set and the test data set.<br><br>Tell a ChatBot that you are about to fit a \"scikit-learn\" *DecisionTreeClassifier* model and ask what the two steps given below are doing; then use your ChatBots help to write code to \"train\" a classification tree *clf* using only the *List Price* variable to predict whether or not a book is a hard cover or paper back book using a *max_depth* of *2*; finally use *tree.plot_tree(clf)* to explain what *predictions* are made based on *List Price* for the fitted *clf* model"
   ]
  },
  {
   "cell_type": "markdown",
   "id": "b6d2a756",
   "metadata": {},
   "source": [
    "We can use train_test_split() from sklearn.model_selection to create the 80% training and 20% testing split"
   ]
  },
  {
   "cell_type": "code",
   "execution_count": 5,
   "id": "9c412104",
   "metadata": {},
   "outputs": [
    {
     "name": "stdout",
     "output_type": "stream",
     "text": [
      "Training set size: 260\n",
      "Testing set size: 65\n"
     ]
    }
   ],
   "source": [
    "import pandas as pd\n",
    "\n",
    "url = \"https://raw.githubusercontent.com/pointOfive/STA130_F23/main/Data/amazonbooks.csv\"\n",
    "ab = pd.read_csv(url, encoding=\"ISO-8859-1\")\n",
    "\n",
    "# Example for loading the data (adjust to your actual file path)\n",
    "ab_reduced_noNaN = ab\n",
    "\n",
    "from sklearn.model_selection import train_test_split\n",
    "\n",
    "# Split the data into 80% training and 20% testing\n",
    "ab_reduced_noNaN_train, ab_reduced_noNaN_test = train_test_split(\n",
    "    ab_reduced_noNaN, test_size=0.2, random_state=42)\n",
    "\n",
    "# Report the number of observations in the training and testing sets\n",
    "print(f\"Training set size: {len(ab_reduced_noNaN_train)}\")\n",
    "print(f\"Testing set size: {len(ab_reduced_noNaN_test)}\")\n"
   ]
  },
  {
   "cell_type": "markdown",
   "id": "e7ad61dc",
   "metadata": {},
   "source": [
    "Using df.sample() for random sampling:"
   ]
  },
  {
   "cell_type": "code",
   "execution_count": 6,
   "id": "4d9120dc",
   "metadata": {},
   "outputs": [
    {
     "name": "stdout",
     "output_type": "stream",
     "text": [
      "Training set size: 260\n",
      "Testing set size: 65\n"
     ]
    }
   ],
   "source": [
    "# Create 80/20 split using df.sample() for random sampling\n",
    "train_size = int(0.8 * len(ab_reduced_noNaN))\n",
    "ab_reduced_noNaN_train = ab_reduced_noNaN.sample(n=train_size, random_state=42)\n",
    "ab_reduced_noNaN_test = ab_reduced_noNaN.drop(ab_reduced_noNaN_train.index)\n",
    "\n",
    "# Report the number of observations in the training and testing sets\n",
    "print(f\"Training set size: {len(ab_reduced_noNaN_train)}\")\n",
    "print(f\"Testing set size: {len(ab_reduced_noNaN_test)}\")\n"
   ]
  },
  {
   "cell_type": "markdown",
   "id": "40367b98",
   "metadata": {},
   "source": [
    "Code to train a classification tree using List Price:\n",
    "Now, to train the DecisionTreeClassifier with a max_depth of 2:"
   ]
  },
  {
   "cell_type": "code",
   "execution_count": 7,
   "id": "f3189984",
   "metadata": {},
   "outputs": [
    {
     "data": {
      "text/plain": [
       "[Text(0.5, 0.8333333333333334, 'x[0] <= 17.97\\ngini = 0.398\\nsamples = 325\\nvalue = [236, 89]'),\n",
       " Text(0.25, 0.5, 'x[0] <= 10.8\\ngini = 0.191\\nsamples = 224\\nvalue = [200, 24]'),\n",
       " Text(0.125, 0.16666666666666666, 'gini = 0.355\\nsamples = 52\\nvalue = [40, 12]'),\n",
       " Text(0.375, 0.16666666666666666, 'gini = 0.13\\nsamples = 172\\nvalue = [160, 12]'),\n",
       " Text(0.75, 0.5, 'x[0] <= 29.225\\ngini = 0.459\\nsamples = 101\\nvalue = [36, 65]'),\n",
       " Text(0.625, 0.16666666666666666, 'gini = 0.388\\nsamples = 75\\nvalue = [19, 56]'),\n",
       " Text(0.875, 0.16666666666666666, 'gini = 0.461\\nsamples = 26\\nvalue = [17, 9]')]"
      ]
     },
     "execution_count": 7,
     "metadata": {},
     "output_type": "execute_result"
    },
    {
     "data": {
      "image/png": "[encoded data removed]",
      "text/plain": [
       "<Figure size 640x480 with 1 Axes>"
      ]
     },
     "metadata": {},
     "output_type": "display_data"
    }
   ],
   "source": [
    "from sklearn.tree import DecisionTreeClassifier\n",
    "from sklearn import tree\n",
    "\n",
    "# Define the target (y) and features (X)\n",
    "y = pd.get_dummies(ab_reduced_noNaN[\"Hard_or_Paper\"])['H']\n",
    "X = ab_reduced_noNaN[['List Price']]\n",
    "\n",
    "# Initialize the DecisionTreeClassifier with max_depth=2\n",
    "clf = DecisionTreeClassifier(max_depth=2)\n",
    "\n",
    "# Train the classifier\n",
    "clf.fit(X, y)\n",
    "\n",
    "# Visualize the tree\n",
    "tree.plot_tree(clf, filled=True)\n"
   ]
  },
  {
   "cell_type": "markdown",
   "id": "4cf83453",
   "metadata": {},
   "source": [
    "### Summary of Chatbot:"
   ]
  },
  {
   "cell_type": "markdown",
   "id": "f33ed0bd",
   "metadata": {},
   "source": [
    "80/20 Data Split:\n",
    "\n",
    "We discussed how to split your dataset (ab_reduced_noNaN) into an 80% training set and a 20% testing set.\n",
    "You can use train_test_split() from sklearn.model_selection to achieve this. An alternative method is using df.sample() to create a random split.\n",
    "Example code was provided for both methods.\n",
    "Error in Dataset Definition:\n",
    "\n",
    "You encountered a NameError because ab_reduced_noNaN was not defined in your environment.\n",
    "To fix this, I suggested ensuring the dataset is loaded correctly, typically using pd.read_csv() if your dataset is in CSV format, and then proceeding with the split.\n",
    "Training a Decision Tree Model:\n",
    "\n",
    "We reviewed how to train a DecisionTreeClassifier to predict whether a book is hardcover or paperback using List Price as the predictor.\n",
    "The target variable (y) was generated using one-hot encoding with pd.get_dummies(), and List Price was used as the feature variable (X).\n",
    "Code was provided to train the classifier, with max_depth=2 to limit the tree depth and prevent overfitting.\n",
    "You can visualize the tree using tree.plot_tree(clf)."
   ]
  },
  {
   "cell_type": "markdown",
   "id": "bbacca7b",
   "metadata": {},
   "source": [
    "#### Link: https://chatgpt.com/share/673b83de-30cc-800b-b5a4-b1035f8965e9"
   ]
  },
  {
   "cell_type": "markdown",
   "id": "4f79ca21",
   "metadata": {},
   "source": [
    "### 5. Repeat the previous problem but this time visualize the *classification decision tree* based on the following specifications below; then explain generally how predictions are made for the *clf2* model<br>"
   ]
  },
  {
   "cell_type": "code",
   "execution_count": 8,
   "id": "4b467001",
   "metadata": {},
   "outputs": [
    {
     "name": "stdout",
     "output_type": "stream",
     "text": [
      "Training set size: 260\n",
      "Testing set size: 65\n"
     ]
    }
   ],
   "source": [
    "from sklearn.model_selection import train_test_split\n",
    "\n",
    "# Split the dataset into training and testing sets\n",
    "ab_reduced_noNaN_train, ab_reduced_noNaN_test = train_test_split(ab_reduced_noNaN, test_size=0.2, random_state=42)\n",
    "\n",
    "# Check the number of observations\n",
    "print(f\"Training set size: {ab_reduced_noNaN_train.shape[0]}\")\n",
    "print(f\"Testing set size: {ab_reduced_noNaN_test.shape[0]}\")"
   ]
  },
  {
   "cell_type": "code",
   "execution_count": 9,
   "id": "b2bd4339",
   "metadata": {},
   "outputs": [
    {
     "data": {
      "text/plain": [
       "[Text(0.4342105263157895, 0.9, 'List Price <= 17.97\\ngini = 0.398\\nsamples = 325\\nvalue = [236, 89]\\nclass = Paperback'),\n",
       " Text(0.21052631578947367, 0.7, 'NumPages <= 82.0\\ngini = 0.191\\nsamples = 224\\nvalue = [200, 24]\\nclass = Paperback'),\n",
       " Text(0.10526315789473684, 0.5, 'Thick <= 0.25\\ngini = 0.375\\nsamples = 8\\nvalue = [2, 6]\\nclass = Hardcover'),\n",
       " Text(0.05263157894736842, 0.3, 'gini = 0.0\\nsamples = 2\\nvalue = [2, 0]\\nclass = Paperback'),\n",
       " Text(0.15789473684210525, 0.3, 'gini = 0.0\\nsamples = 6\\nvalue = [0, 6]\\nclass = Hardcover'),\n",
       " Text(0.3157894736842105, 0.5, 'Thick <= 1.65\\ngini = 0.153\\nsamples = 216\\nvalue = [198, 18]\\nclass = Paperback'),\n",
       " Text(0.2631578947368421, 0.3, 'List Price <= 16.97\\ngini = 0.153\\nsamples = 214\\nvalue = [197, 17]\\nclass = Paperback'),\n",
       " Text(0.21052631578947367, 0.1, 'gini = 0.13\\nsamples = 201\\nvalue = [187, 14]\\nclass = Paperback'),\n",
       " Text(0.3157894736842105, 0.1, 'gini = 0.355\\nsamples = 13\\nvalue = [10, 3]\\nclass = Paperback'),\n",
       " Text(0.3684210526315789, 0.3, 'gini = 0.0\\nsamples = 2\\nvalue = [1, 1]\\nclass = Paperback'),\n",
       " Text(0.6578947368421053, 0.7, 'Thick <= 0.95\\ngini = 0.459\\nsamples = 101\\nvalue = [36, 65]\\nclass = Hardcover'),\n",
       " Text(0.5263157894736842, 0.5, 'NumPages <= 280.0\\ngini = 0.424\\nsamples = 36\\nvalue = [25, 11]\\nclass = Paperback'),\n",
       " Text(0.47368421052631576, 0.3, 'Thick <= 0.75\\ngini = 0.499\\nsamples = 22\\nvalue = [11, 11]\\nclass = Paperback'),\n",
       " Text(0.42105263157894735, 0.1, 'gini = 0.457\\nsamples = 16\\nvalue = [11, 5]\\nclass = Paperback'),\n",
       " Text(0.5263157894736842, 0.1, 'gini = 0.0\\nsamples = 6\\nvalue = [0, 6]\\nclass = Hardcover'),\n",
       " Text(0.5789473684210527, 0.3, 'gini = 0.0\\nsamples = 14\\nvalue = [14, 0]\\nclass = Paperback'),\n",
       " Text(0.7894736842105263, 0.5, 'NumPages <= 560.0\\ngini = 0.281\\nsamples = 65\\nvalue = [11, 54]\\nclass = Hardcover'),\n",
       " Text(0.6842105263157895, 0.3, 'Thick <= 1.05\\ngini = 0.147\\nsamples = 50\\nvalue = [4, 46]\\nclass = Hardcover'),\n",
       " Text(0.631578947368421, 0.1, 'gini = 0.391\\nsamples = 15\\nvalue = [4, 11]\\nclass = Hardcover'),\n",
       " Text(0.7368421052631579, 0.1, 'gini = 0.0\\nsamples = 35\\nvalue = [0, 35]\\nclass = Hardcover'),\n",
       " Text(0.8947368421052632, 0.3, 'Thick <= 1.65\\ngini = 0.498\\nsamples = 15\\nvalue = [7, 8]\\nclass = Hardcover'),\n",
       " Text(0.8421052631578947, 0.1, 'gini = 0.444\\nsamples = 9\\nvalue = [6, 3]\\nclass = Paperback'),\n",
       " Text(0.9473684210526315, 0.1, 'gini = 0.278\\nsamples = 6\\nvalue = [1, 5]\\nclass = Hardcover')]"
      ]
     },
     "execution_count": 9,
     "metadata": {},
     "output_type": "execute_result"
    },
    {
     "data": {
      "image/png": "[encoded data removed]",
      "text/plain": [
       "<Figure size 640x480 with 1 Axes>"
      ]
     },
     "metadata": {},
     "output_type": "display_data"
    }
   ],
   "source": [
    "from sklearn.tree import DecisionTreeClassifier\n",
    "from sklearn import tree\n",
    "import pandas as pd\n",
    "\n",
    "# Prepare the target variable (binary encoding for 'Hard_or_Paper')\n",
    "y = pd.get_dummies(ab_reduced_noNaN[\"Hard_or_Paper\"])['H']\n",
    "\n",
    "# Prepare the features (NumPages, Thick, List Price)\n",
    "X = ab_reduced_noNaN[['NumPages', 'Thick', 'List Price']]\n",
    "\n",
    "# Initialize the DecisionTreeClassifier with max_depth=4\n",
    "clf2 = DecisionTreeClassifier(max_depth=4)\n",
    "\n",
    "# Train the classifier\n",
    "clf2.fit(X, y)\n",
    "\n",
    "# Visualize the decision tree\n",
    "tree.plot_tree(clf2, filled=True, feature_names=['NumPages', 'Thick', 'List Price'], class_names=['Paperback', 'Hardcover'], rounded=True)\n"
   ]
  },
  {
   "cell_type": "markdown",
   "id": "98be775b",
   "metadata": {},
   "source": [
    "### Summary of Chatbot:"
   ]
  },
  {
   "cell_type": "markdown",
   "id": "b4ca8578",
   "metadata": {},
   "source": [
    "80/20 Data Split:\n",
    "\n",
    "We discussed how to split the dataset (ab_reduced_noNaN) into an 80% training set and a 20% testing set.\n",
    "I provided two methods for splitting the data:\n",
    "Using train_test_split() from sklearn.model_selection.\n",
    "Using df.sample() for random sampling.\n",
    "Error with Undefined Dataset:\n",
    "\n",
    "You encountered a NameError because ab_reduced_noNaN was not defined in your environment.\n",
    "I suggested loading the dataset correctly, using pd.read_csv() if it's in CSV format, and ensuring it's defined before proceeding with the split.\n",
    "Training a Decision Tree Model:\n",
    "\n",
    "We created a DecisionTreeClassifier model to predict whether a book is hardcover or paperback using List Price as the feature.\n",
    "The target variable was prepared with one-hot encoding, and the model was trained with a max_depth=2.\n",
    "Code was provided for training the model and visualizing the tree using tree.plot_tree(clf).\n",
    "Updated Problem (New Features and max_depth=4):\n",
    "\n",
    "You asked to modify the model by using additional features: NumPages, Thick, and List Price with a max_depth=4.\n",
    "The classifier was updated to use these features, and the decision tree was visualized with tree.plot_tree() for better interpretation of the splits and predictions.\n",
    "An explanation of how predictions are made using a decision tree was provided:\n",
    "The tree splits data based on feature thresholds, and at the leaves, the majority class (e.g., Paperback or Hardcover) is assigned as the prediction.\n",
    "The depth of the tree was limited to 4 to prevent overfitting."
   ]
  },
  {
   "cell_type": "markdown",
   "id": "0c3c29e6",
   "metadata": {},
   "source": [
    "#### Link: https://chatgpt.com/share/673b83de-30cc-800b-b5a4-b1035f8965e9"
   ]
  },
  {
   "cell_type": "markdown",
   "id": "de3a6f68",
   "metadata": {},
   "source": [
    "### 6. Use previously created *ab_reduced_noNaN_test* to create confusion matrices for *clf* and *clf2*. Report the sensitivity, specificity and accuracy for each of the models<br>"
   ]
  },
  {
   "cell_type": "markdown",
   "id": "56891d42",
   "metadata": {},
   "source": [
    "Define Metrics\n",
    "Sensitivity (Recall for Positive Class): Proportion of actual positives correctly identified.\n",
    "\n",
    "Sensitivity=\n",
    "True Positives (TP)\n",
    "True Positives (TP)\n",
    "+\n",
    "False Negatives (FN)\n",
    " \n",
    "Specificity: Proportion of actual negatives correctly identified.\n",
    "\n",
    "Specificity=\n",
    "True Negatives (TN)\n",
    "True Negatives (TN)\n",
    "+\n",
    "False Positives (FP)\n",
    " \n",
    "Accuracy: Proportion of total predictions that are correct.\n",
    "\n",
    "Accuracy=\n",
    "TP\n",
    "+\n",
    "TN\n",
    "Total Predictions"
   ]
  },
  {
   "cell_type": "markdown",
   "id": "61c17c20",
   "metadata": {},
   "source": [
    "Use ab_reduced_noNaN_test to predict and generate confusion matrices for both models.\n",
    "\n",
    "Extract metrics from the confusion matrix to compute sensitivity, specificity, and accuracy."
   ]
  },
  {
   "cell_type": "code",
   "execution_count": 10,
   "id": "8edbb195",
   "metadata": {},
   "outputs": [
    {
     "name": "stdout",
     "output_type": "stream",
     "text": [
      "Confusion Matrix for clf (List Price):\n",
      "[[45  5]\n",
      " [ 4 11]]\n",
      "\n",
      "Confusion Matrix for clf2 (NumPages, Thick, List Price):\n",
      "[[48  2]\n",
      " [ 4 11]]\n",
      "\n",
      "clf Metrics:\n",
      "Sensitivity: 0.73\n",
      "Specificity: 0.90\n",
      "Accuracy: 0.86\n",
      "\n",
      "clf2 Metrics:\n",
      "Sensitivity: 0.73\n",
      "Specificity: 0.96\n",
      "Accuracy: 0.91\n"
     ]
    }
   ],
   "source": [
    "import pandas as pd\n",
    "from sklearn.metrics import confusion_matrix, accuracy_score\n",
    "\n",
    "# Prepare test features and target variable\n",
    "y_test = pd.get_dummies(ab_reduced_noNaN_test[\"Hard_or_Paper\"])['H']\n",
    "X_test_clf = ab_reduced_noNaN_test[['List Price']]\n",
    "X_test_clf2 = ab_reduced_noNaN_test[['NumPages', 'Thick', 'List Price']]\n",
    "\n",
    "# Predict with clf (List Price only)\n",
    "y_pred_clf = clf.predict(X_test_clf)\n",
    "\n",
    "# Predict with clf2 (NumPages, Thick, List Price)\n",
    "y_pred_clf2 = clf2.predict(X_test_clf2)\n",
    "\n",
    "# Confusion matrix for clf\n",
    "cm_clf = confusion_matrix(y_test, y_pred_clf)\n",
    "print(\"Confusion Matrix for clf (List Price):\")\n",
    "print(cm_clf)\n",
    "\n",
    "# Confusion matrix for clf2\n",
    "cm_clf2 = confusion_matrix(y_test, y_pred_clf2)\n",
    "print(\"\\nConfusion Matrix for clf2 (NumPages, Thick, List Price):\")\n",
    "print(cm_clf2)\n",
    "\n",
    "# Helper function to calculate metrics\n",
    "def calculate_metrics(cm):\n",
    "    TN, FP, FN, TP = cm.ravel()\n",
    "    sensitivity = TP / (TP + FN) if (TP + FN) > 0 else 0\n",
    "    specificity = TN / (TN + FP) if (TN + FP) > 0 else 0\n",
    "    accuracy = (TP + TN) / cm.sum()\n",
    "    return sensitivity, specificity, accuracy\n",
    "\n",
    "# Calculate metrics for clf\n",
    "sensitivity_clf, specificity_clf, accuracy_clf = calculate_metrics(cm_clf)\n",
    "print(f\"\\nclf Metrics:\")\n",
    "print(f\"Sensitivity: {sensitivity_clf:.2f}\")\n",
    "print(f\"Specificity: {specificity_clf:.2f}\")\n",
    "print(f\"Accuracy: {accuracy_clf:.2f}\")\n",
    "\n",
    "# Calculate metrics for clf2\n",
    "sensitivity_clf2, specificity_clf2, accuracy_clf2 = calculate_metrics(cm_clf2)\n",
    "print(f\"\\nclf2 Metrics:\")\n",
    "print(f\"Sensitivity: {sensitivity_clf2:.2f}\")\n",
    "print(f\"Specificity: {specificity_clf2:.2f}\")\n",
    "print(f\"Accuracy: {accuracy_clf2:.2f}\")\n"
   ]
  },
  {
   "cell_type": "markdown",
   "id": "7cb346bb",
   "metadata": {},
   "source": [
    "### Summary of Chatbot:"
   ]
  },
  {
   "cell_type": "markdown",
   "id": "5f36e266",
   "metadata": {},
   "source": [
    "Session Summary:\n",
    "Task:\n",
    "\n",
    "You aimed to evaluate two decision tree models (clf and clf2) on the test dataset (ab_reduced_noNaN_test) by creating confusion matrices and calculating key metrics: sensitivity, specificity, and accuracy.\n",
    "Error Encountered:\n",
    "\n",
    "A NameError: name 'pd' is not defined occurred because the pandas library (pd) was not imported in your script.\n",
    "Resolution:\n",
    "\n",
    "I provided the corrected code by ensuring import pandas as pd was included at the beginning of the script.\n",
    "The code was structured to:\n",
    "Prepare the target variable (y_test) and feature sets for clf (X_test_clf) and clf2 (X_test_clf2).\n",
    "Generate predictions using clf.predict() and clf2.predict().\n",
    "Create confusion matrices using confusion_matrix() for both models.\n",
    "Calculate sensitivity, specificity, and accuracy using a helper function that extracts metrics from the confusion matrix.\n",
    "Next Steps:\n",
    "\n",
    "Ensure that both models (clf and clf2) are trained before running the evaluation.\n",
    "Verify that ab_reduced_noNaN_test contains the required test data."
   ]
  },
  {
   "cell_type": "markdown",
   "id": "9009c3f3",
   "metadata": {},
   "source": [
    "#### Link: https://chatgpt.com/share/673b83de-30cc-800b-b5a4-b1035f8965e9"
   ]
  },
  {
   "cell_type": "markdown",
   "id": "1e828942",
   "metadata": {},
   "source": [
    "### 7. Explain in three to four sentences what is causing the differences between the following two confusion matrices below, and why the two confusion matrices above (for *clf* and *clf2*) are better<br>"
   ]
  },
  {
   "cell_type": "markdown",
   "id": "6cb29966",
   "metadata": {},
   "source": [
    "The differences between the two confusion matrices stem from the number of features used for prediction. The first matrix involves only one predictor, List Price, while the second matrix includes three predictors: NumPages, Thick, and List Price. Adding more features provides the model with additional information about the data, likely leading to better classification performance and a more balanced confusion matrix. The confusion matrices for clf and clf2 (referred to as \"above\") are likely better because they use a more sophisticated model or an optimal feature set, leading to improved predictive accuracy and fewer classification errors."
   ]
  },
  {
   "cell_type": "markdown",
   "id": "cd5cc8f5",
   "metadata": {},
   "source": [
    "### Summary of Chatbot:"
   ]
  },
  {
   "cell_type": "markdown",
   "id": "2bcefe9e",
   "metadata": {},
   "source": [
    "The discussion focused on analyzing differences between confusion matrices resulting from varying predictors in a classification model. The first confusion matrix was based on a single feature (List Price), while the second included three features (NumPages, Thick, and List Price). The performance differences were attributed to the additional information provided by the multiple features in the second matrix, leading to better predictions. The earlier mentioned confusion matrices (clf and clf2) were considered better, likely due to using more advanced models or an optimized set of features. The session emphasized how feature selection and model complexity impact classification results.\n",
    "\n",
    "\n",
    "\n",
    "\n",
    "\n",
    "\n"
   ]
  },
  {
   "cell_type": "markdown",
   "id": "41d29fd5",
   "metadata": {},
   "source": [
    "#### Link: https://chatgpt.com/share/673bb2d3-39b0-800b-b78b-f58083cd3254"
   ]
  },
  {
   "cell_type": "markdown",
   "id": "e37d24b2",
   "metadata": {},
   "source": [
    "### 8. Read the paragraphs in *Further Guidance* and ask a ChatBot how to visualize *feature Importances* available for *scikit-learn* *classification decision trees*; do so for *clf2*;  and use *.feature_names_in_* corresponding to *.feature_importances_* to report which *predictor variable* is most important for making predictions according to *clf2*<br>"
   ]
  },
  {
   "cell_type": "markdown",
   "id": "ec3a08f6",
   "metadata": {},
   "source": [
    "To visualize feature importances for the scikit-learn classification decision tree clf2, follow these steps:\n",
    "\n",
    "1. Extract Feature Importances\n",
    "The .feature_importances_ attribute provides a numerical importance value for each feature in your model. To link these to human-readable variable names, use .feature_names_in_.\n",
    "\n",
    "2. Visualize the Importances\n",
    "You can use a bar plot to display the feature importances. Matplotlib or Seaborn works well for this. Order the features by importance for better readability.\n",
    "\n",
    "3. Determine the Most Important Feature\n",
    "The feature with the highest value in .feature_importances_ corresponds to the most critical predictor variable in clf2."
   ]
  },
  {
   "cell_type": "markdown",
   "id": "58cd0661",
   "metadata": {},
   "source": [
    "### Summary of Chatbot: "
   ]
  },
  {
   "cell_type": "markdown",
   "id": "17fe7125",
   "metadata": {},
   "source": [
    "Question: How to visualize feature importances for scikit-learn's classification decision tree clf2, and identify the most important predictor variable.\n",
    "\n",
    "Explanation:\n",
    "\n",
    "Decision trees calculate feature importances by measuring the improvement in the criterion (e.g., Gini impurity or Shannon entropy) attributed to each feature at each split.\n",
    "Feature importances are accessible via the .feature_importances_ attribute and linked to their names using .feature_names_in_.\n",
    "Implementation Steps:\n",
    "\n",
    "Extract Data: Use .feature_importances_ and .feature_names_in_ to get feature importance scores and their corresponding names.\n",
    "Visualize: Create a bar plot of sorted feature importances using libraries like Matplotlib or Seaborn.\n",
    "Identify Key Feature: Determine the most important feature based on the highest importance score.\n",
    "Code Provided:\n",
    "\n",
    "A Python example demonstrates how to extract, sort, visualize feature importances, and identify the top predictor variable.\n",
    "Outcome: You can generate a bar plot to see the relative importance of features and identify the most important one for clf2."
   ]
  },
  {
   "cell_type": "markdown",
   "id": "70a6589b",
   "metadata": {},
   "source": [
    "#### Link: https://chatgpt.com/share/673bb388-5cd8-800b-a760-01facfeb1732"
   ]
  },
  {
   "cell_type": "markdown",
   "id": "d6d1473e",
   "metadata": {},
   "source": [
    "### 9. Describe the differences of interpreting coefficients in linear model regression versus feature importances in decision trees in two to three sentences<br>\n"
   ]
  },
  {
   "cell_type": "markdown",
   "id": "e3d4e598",
   "metadata": {},
   "source": [
    "In linear regression, coefficients directly represent the relationship between each predictor and the response variable, assuming all other predictors are held constant. They are interpretable in terms of magnitude and direction, making them useful for understanding specific predictor effects. In decision trees, feature importance measures reflect how much a feature contributes to reducing prediction error across splits, but they are less interpretable as they account for interactions and non-linear relationships without offering direct or isolated effect sizes."
   ]
  },
  {
   "cell_type": "markdown",
   "id": "5622891c",
   "metadata": {},
   "source": [
    "### 10. Have you reviewed the course wiki-textbook and interacted with a ChatBot (or, if that wasn't sufficient, real people in the course piazza discussion board or TA office hours) to help you understand all the material in the tutorial and lecture that you didn't quite follow when you first saw it?<br>"
   ]
  },
  {
   "cell_type": "markdown",
   "id": "d07d04de",
   "metadata": {},
   "source": [
    "Yes."
   ]
  },
  {
   "cell_type": "code",
   "execution_count": null,
   "id": "df8e8f4a",
   "metadata": {},
   "outputs": [],
   "source": []
  }
 ],
 "metadata": {
  "kernelspec": {
   "display_name": "Python 3 (ipykernel)",
   "language": "python",
   "name": "python3"
  },
  "language_info": {
   "codemirror_mode": {
    "name": "ipython",
    "version": 3
   },
   "file_extension": ".py",
   "mimetype": "text/x-python",
   "name": "python",
   "nbconvert_exporter": "python",
   "pygments_lexer": "ipython3",
   "version": "3.11.6"
  }
 },
 "nbformat": 4,
 "nbformat_minor": 5
}
